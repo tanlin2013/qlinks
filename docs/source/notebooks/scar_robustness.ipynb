{
 "cells": [
  {
   "cell_type": "code",
   "execution_count": null,
   "outputs": [],
   "source": [
    "from IPython.display import clear_output\n",
    "from time import sleep\n",
    "\n",
    "import numpy as np\n",
    "import pandas as pd\n",
    "from scipy.linalg import null_space\n",
    "from scipy.sparse import csr_matrix\n",
    "from scipy.sparse.linalg import expm_multiply\n",
    "import matplotlib.pyplot as plt\n",
    "import networkx as nx\n",
    "import pyvis.network as nt\n",
    "import igraph\n",
    "\n",
    "from qlinks.lattice.square_lattice import SquareLattice\n",
    "from qlinks.symmetry.gauss_law import GaussLaw\n",
    "from qlinks.solver.deep_first_search import DeepFirstSearch\n",
    "from qlinks.computation_basis import ComputationBasis\n",
    "from qlinks.model import QuantumLinkModel\n",
    "from qlinks.visualizer.graph import GraphVisualizer\n",
    "\n",
    "np.set_printoptions(threshold=np.inf)\n",
    "pd.set_option('display.max_rows', None)"
   ],
   "metadata": {
    "collapsed": false
   },
   "id": "7411d3141be9b503"
  },
  {
   "cell_type": "code",
   "execution_count": null,
   "outputs": [],
   "source": [
    "def format_custom_index(index):\n",
    "    return [f\"({i}) {idx}\" for i, idx in enumerate(index)]\n",
    "\n",
    "def setup_dimer_model(lattice_shape, n_solution, coup_j, coup_rk):\n",
    "    gauss_law = GaussLaw.from_staggered_charge_distri(*lattice_shape)\n",
    "    gauss_law.flux_sector = (0, 0)\n",
    "    dfs = DeepFirstSearch(gauss_law, max_steps=int(1e+8))\n",
    "    basis = gauss_law.to_basis(dfs.solve(n_solution))\n",
    "    model = QuantumLinkModel(coup_j, coup_rk, lattice_shape, basis)\n",
    "    return basis, model\n",
    "\n",
    "def setup_link_model(lattice_shape, n_solution, coup_j, coup_rk):\n",
    "    gauss_law = GaussLaw.from_zero_charge_distri(*lattice_shape)\n",
    "    gauss_law.flux_sector = (0, 0)\n",
    "    dfs = DeepFirstSearch(gauss_law, max_steps=int(1e+8))\n",
    "    basis = gauss_law.to_basis(dfs.solve(n_solution))\n",
    "    model = QuantumLinkModel(coup_j, coup_rk, lattice_shape, basis)\n",
    "    return basis, model"
   ],
   "metadata": {
    "collapsed": false
   },
   "id": "5e929467bcec60c6"
  },
  {
   "cell_type": "code",
   "outputs": [],
   "source": [],
   "metadata": {
    "collapsed": false
   },
   "id": "2eb9b4999935c37d"
  },
  {
   "cell_type": "markdown",
   "source": [
    "# QDM Lattice 4x2"
   ],
   "metadata": {
    "collapsed": false
   },
   "id": "72482ec7b2d8699f"
  },
  {
   "cell_type": "code",
   "execution_count": null,
   "outputs": [],
   "source": [
    "coup_j, coup_rk = (1, -0.7)\n",
    "basis, model = setup_dimer_model(lattice_shape=(4, 2), n_solution=16, coup_j=coup_j, coup_rk=coup_rk)\n",
    "evals, evecs = np.linalg.eigh(model.hamiltonian)"
   ],
   "metadata": {
    "collapsed": false
   },
   "id": "177702e670445224"
  },
  {
   "cell_type": "code",
   "execution_count": null,
   "outputs": [],
   "source": [
    "df = basis.dataframe.copy(deep=True)\n",
    "df.index = format_custom_index(df.index)\n",
    "df"
   ],
   "metadata": {
    "collapsed": false
   },
   "id": "fa78c3855cdd5c4f"
  },
  {
   "cell_type": "code",
   "execution_count": null,
   "outputs": [],
   "source": [
    "evecs_df = pd.DataFrame.from_dict(\n",
    "    {\n",
    "        \"eval\": evals, \n",
    "        \"kin\": [(evec.T @ model.kinetic_term @ evec).item() for evec in evecs.T],\n",
    "        \"pot\": [(evec.T @ model.potential_term @ evec).item() for evec in evecs.T],\n",
    "    }\n",
    ")\n",
    "evecs_df[evecs_df[\"kin\"].abs() < 1e-12]"
   ],
   "metadata": {
    "collapsed": false
   },
   "id": "6e49f6ed7e63d194"
  },
  {
   "cell_type": "code",
   "execution_count": null,
   "outputs": [],
   "source": [
    "evecs_df.plot(style='o', grid=True)\n",
    "# plt.axvline(np.pi, linestyle='--', color='gray')\n",
    "# plt.axvline(2 * np.pi, linestyle='--', color='gray')\n",
    "# plt.axvline(3 * np.pi, linestyle='--', color='gray')\n",
    "# plt.axvline(4 * np.pi, linestyle='--', color='gray')"
   ],
   "metadata": {
    "collapsed": false
   },
   "id": "687027d4bebbdc81"
  },
  {
   "cell_type": "code",
   "execution_count": null,
   "outputs": [],
   "source": [
    "k_rank = np.linalg.matrix_rank(model.kinetic_term)\n",
    "h_rank = np.linalg.matrix_rank(model.hamiltonian)\n",
    "print(k_rank, h_rank, basis.n_states, (basis.n_states - k_rank) / basis.n_states)"
   ],
   "metadata": {
    "collapsed": false
   },
   "id": "aaa8f9c7e1cef3c4"
  },
  {
   "cell_type": "code",
   "execution_count": null,
   "outputs": [],
   "source": [
    "plt.spy(evecs, precision=1e-12, markersize=12)\n",
    "plt.show()"
   ],
   "metadata": {
    "collapsed": false
   },
   "id": "c87292bb85cc29d5"
  },
  {
   "cell_type": "code",
   "execution_count": null,
   "outputs": [],
   "source": [
    "g = nx.from_numpy_array(-model.kinetic_term)\n",
    "ig = igraph.Graph.from_networkx(g)\n",
    "ig.vs[\"label\"] = [str(i) for i in range(ig.vcount())]\n",
    "# color = [\"orange\" for i in range(ig.vcount())]\n",
    "# highlight = [\n",
    "#     [14, 13, 11, 7],\n",
    "#     [1, 8, 2, 4],\n",
    "# ]\n",
    "# highlight_color = [\"aqua\", \"yellowgreen\"]\n",
    "# for i, nodes in enumerate(highlight):\n",
    "#     for node in nodes:\n",
    "#         color[node] = highlight_color[i]\n",
    "# ig.vs[\"color\"] = color\n",
    "# sub_ig = ig.induced_subgraph(np.where(np.diag(two_steps_mat) == 4)[0])\n",
    "# fig, ax = plt.subplots(figsize=(6, 6), facecolor=\"white\")\n",
    "igraph.plot(\n",
    "    ig,\n",
    "    layout=ig.layout_kamada_kawai(),\n",
    "    vertex_size=16,\n",
    "    vertex_color=\"orange\",\n",
    "    # target=ax\n",
    ")"
   ],
   "metadata": {
    "collapsed": false
   },
   "id": "449f9f3b3fab6da0"
  },
  {
   "cell_type": "code",
   "outputs": [],
   "source": [
    "net = nt.Network(filter_menu=True, select_menu=True)\n",
    "net.from_nx(g)\n",
    "net.show_buttons(filter_=['nodes', 'edges', 'physics'])\n",
    "net.write_html(\"nx.html\")"
   ],
   "metadata": {
    "collapsed": false
   },
   "id": "690bbd915b96f9",
   "execution_count": null
  },
  {
   "cell_type": "code",
   "outputs": [],
   "source": [
    "two_steps_mat = np.linalg.matrix_power(model.kinetic_term, 2)\n",
    "sort_idx = np.argsort(np.diag(two_steps_mat))\n",
    "\n",
    "plt.plot(np.diag(two_steps_mat[sort_idx, :][:, sort_idx]), linestyle=\"--\", marker=\"o\")\n",
    "plt.show()"
   ],
   "metadata": {
    "collapsed": false
   },
   "id": "8173848363bcaef9",
   "execution_count": null
  },
  {
   "cell_type": "code",
   "outputs": [],
   "source": [
    "g = nx.from_numpy_array(two_steps_mat)\n",
    "ig = igraph.Graph.from_networkx(g)\n",
    "ig.vs[\"label\"] = [str(i) for i in range(ig.vcount())]\n",
    "sub_ig = ig.induced_subgraph(np.where(np.diag(two_steps_mat) == 3)[0])\n",
    "igraph.plot(\n",
    "    sub_ig,\n",
    "    # layout=ig.layout_kamada_kawai(),\n",
    "    # vertex_size=8,\n",
    "    vertex_color=\"orange\",\n",
    "    # edge_width=0.4,\n",
    "    # edge_color=\"darkgray\",\n",
    "    # vertex_label_size=6,\n",
    "    inline=True\n",
    ")"
   ],
   "metadata": {
    "collapsed": false
   },
   "id": "86deaff3d26ee142",
   "execution_count": null
  },
  {
   "cell_type": "code",
   "outputs": [],
   "source": [
    "two_steps_mat = two_steps_mat[sort_idx, :][:, sort_idx]\n",
    "\n",
    "mask = np.where(np.diag(two_steps_mat) == 3)[0]\n",
    "two_steps_mat = two_steps_mat[mask[0]:mask[-1] + 1, mask[0]:mask[-1] + 1]\n",
    "# two_steps_mat[two_steps_mat < 2] = 0\n",
    "\n",
    "print(model.kinetic_term.shape[0] - np.linalg.matrix_rank(model.kinetic_term))\n",
    "print(two_steps_mat.shape[0] - np.linalg.matrix_rank(two_steps_mat))\n",
    "\n",
    "plt.matshow(two_steps_mat)\n",
    "plt.colorbar()"
   ],
   "metadata": {
    "collapsed": false
   },
   "id": "8dfdba2f8a0f871e",
   "execution_count": null
  },
  {
   "cell_type": "code",
   "outputs": [],
   "source": [
    "evals2, evecs2 = np.linalg.eigh(two_steps_mat)\n",
    "print(evals2)\n",
    "\n",
    "plt.matshow(evecs2)\n",
    "plt.colorbar()\n",
    "null_space(two_steps_mat)"
   ],
   "metadata": {
    "collapsed": false
   },
   "id": "12f0e0182cf8e640",
   "execution_count": null
  },
  {
   "cell_type": "code",
   "execution_count": null,
   "outputs": [],
   "source": [
    "entropies = np.asarray([model.entropy(evecs[:, i], 1, 0) for i in range(basis.n_states)])\n",
    "entropy_df = pd.Series(entropies, name=\"entropy\")\n",
    "entropy_df"
   ],
   "metadata": {
    "collapsed": false
   },
   "id": "cc70b16fe05e50dc"
  },
  {
   "cell_type": "code",
   "execution_count": null,
   "outputs": [],
   "source": [
    "entropy_df.plot(style='o')"
   ],
   "metadata": {
    "collapsed": false
   },
   "id": "8496c9762b84ed36"
  },
  {
   "cell_type": "code",
   "execution_count": null,
   "outputs": [],
   "source": [
    "i = 5\n",
    "plt.plot(evecs[:, i], linestyle='--', marker='o')\n",
    "np.where(np.abs(evecs[:, i]) > 0.2)[0]"
   ],
   "metadata": {
    "collapsed": false
   },
   "id": "28abd4478cac966e"
  },
  {
   "cell_type": "code",
   "execution_count": null,
   "outputs": [],
   "source": [
    "fig, axes = plt.subplots(4, 4, figsize=(16, 16), facecolor=\"white\")\n",
    "ax = axes.flatten()\n",
    "\n",
    "for i in range(basis.n_states):\n",
    "    g = GraphVisualizer(SquareLattice(*model.shape, basis.dataframe.iloc[i]))\n",
    "    g.plot(show=False, ax=ax[i], node_size=800)\n",
    "    ax[i].set_title(f\"{df.index[i]}\")"
   ],
   "metadata": {
    "collapsed": false
   },
   "id": "bee62f9a7e2b9b0a"
  },
  {
   "cell_type": "code",
   "execution_count": null,
   "outputs": [],
   "source": [
    "coup_j = np.ones((np.prod(model.shape), 1))\n",
    "coup_j[0] = 1.1\n",
    "energy_lump_model = QuantumLinkModel(coup_j, coup_rk, model.shape, basis)\n",
    "energy_lump_ham = energy_lump_model.hamiltonian\n",
    "\n",
    "scar_state = np.zeros((basis.n_states, 1))\n",
    "scar_state[np.array([2, 4, 7, 11]), 0] = np.array([1, -1, 1, -1])\n",
    "scar_state /= np.linalg.norm(scar_state)\n",
    "\n",
    "start, stop, num = 0, 1000, 100\n",
    "evol_states = expm_multiply(-1j * energy_lump_ham, scar_state, start=start, stop=stop, num=num)\n",
    "fidelity = [np.abs(evol_state.T @ scar_state).item() ** 2 for evol_state in evol_states]\n",
    "entropy = [model.entropy(evol_state.flatten(), 1, 0) for evol_state in evol_states]\n",
    "\n",
    "plt.plot(np.linspace(start, stop, num), fidelity, linestyle=\"--\", marker=\"o\")\n",
    "plt.ylim(0.0001, 1.1)\n",
    "# plt.yscale('log')\n",
    "plt.xlabel(\"t\")\n",
    "plt.ylabel(\"Fidelity(t)\")\n",
    "plt.tight_layout()\n",
    "plt.show()\n",
    "\n",
    "plt.plot(np.linspace(start, stop, num), np.round(entropy, 12), linestyle=\"--\", marker=\"o\")\n",
    "plt.xlabel(\"t\")\n",
    "plt.ylabel(\"EE(t)\")\n",
    "plt.tight_layout()\n",
    "plt.show()\n",
    "\n",
    "final_state = np.real_if_close(evol_states[-1], tol=1e-12)\n",
    "print(f\"final fidelity = {fidelity[-1]}\")\n",
    "print(f\"O_kin @ psi_scar = {(model.kinetic_term @ final_state).flatten()}\")\n",
    "print(f\"<O_kin> = {(final_state.T @ model.kinetic_term @ final_state).item()}\")\n",
    "print(f\"<O_pot> = {(final_state.T @ model.potential_term @ final_state).item()}\")\n",
    "print(f\"<H> = {(final_state.T @ model.hamiltonian @ final_state).item()}\")"
   ],
   "metadata": {
    "collapsed": false
   },
   "id": "b93544ab234e5e4f"
  },
  {
   "cell_type": "markdown",
   "source": [
    "# QDM Lattice 4x4"
   ],
   "metadata": {
    "collapsed": false
   },
   "id": "b6949bf182247a6"
  },
  {
   "cell_type": "code",
   "execution_count": null,
   "outputs": [],
   "source": [
    "coup_j, coup_rk = (1, -0.7)\n",
    "basis, model = setup_dimer_model(lattice_shape=(4, 4), n_solution=132, coup_j=coup_j, coup_rk=coup_rk)\n",
    "evals, evecs = np.linalg.eigh(model.hamiltonian.toarray())"
   ],
   "metadata": {
    "collapsed": false
   },
   "id": "3a1cdb42ac40d3fc"
  },
  {
   "cell_type": "code",
   "execution_count": null,
   "outputs": [],
   "source": [
    "df = basis.dataframe.copy(deep=True)\n",
    "df.index = format_custom_index(df.index)\n",
    "df"
   ],
   "metadata": {
    "collapsed": false
   },
   "id": "1e691ccad190286d"
  },
  {
   "cell_type": "code",
   "execution_count": null,
   "outputs": [],
   "source": [
    "evecs_df = pd.DataFrame.from_dict(\n",
    "    {\n",
    "        \"eval\": evals, \n",
    "        \"kin\": [(evec.T @ model.kinetic_term @ evec).item() for evec in evecs.T],\n",
    "        \"pot\": [(evec.T @ model.potential_term @ evec).item() for evec in evecs.T],\n",
    "    }\n",
    ")\n",
    "evecs_df[evecs_df[\"kin\"].abs() < 1e-12]"
   ],
   "metadata": {
    "collapsed": false
   },
   "id": "3369b266ae3a6238"
  },
  {
   "cell_type": "code",
   "execution_count": null,
   "outputs": [],
   "source": [
    "evecs_df.plot(style='.', grid=True)"
   ],
   "metadata": {
    "collapsed": false
   },
   "id": "f710b026945b63d4"
  },
  {
   "cell_type": "code",
   "execution_count": null,
   "outputs": [],
   "source": [
    "k_rank = np.linalg.matrix_rank(model.kinetic_term)\n",
    "h_rank = np.linalg.matrix_rank(model.hamiltonian)\n",
    "print(k_rank, h_rank, basis.n_states, (basis.n_states - k_rank) / basis.n_states)"
   ],
   "metadata": {
    "collapsed": false
   },
   "id": "604f6ca69c528ce0"
  },
  {
   "cell_type": "code",
   "execution_count": null,
   "outputs": [],
   "source": [
    "plt.spy(evecs, precision=1e-12, markersize=0.1)\n",
    "plt.show()"
   ],
   "metadata": {
    "collapsed": false
   },
   "id": "7b8ff52702faf03b"
  },
  {
   "cell_type": "code",
   "outputs": [],
   "source": [
    "plt.matshow(evecs[:, 72:81].T)"
   ],
   "metadata": {
    "collapsed": false
   },
   "id": "298557153a0211f0",
   "execution_count": null
  },
  {
   "cell_type": "code",
   "execution_count": null,
   "outputs": [],
   "source": [
    "g = nx.from_numpy_array(-model.kinetic_term)\n",
    "ig = igraph.Graph.from_networkx(g)\n",
    "ig.vs[\"label\"] = [str(i) for i in range(ig.vcount())]\n",
    "color = [\"whitesmoke\" for i in range(ig.vcount())]\n",
    "highlight = [\n",
    "    # [34, 65, 86, 124],\n",
    "    # [96, 108, 107, 126],\n",
    "    # [93, 115, 92, 114],\n",
    "    # [77, 74, 15, 5],\n",
    "    # [59, 101, 58, 100],\n",
    "    # [25, 67, 26, 68],\n",
    "    # [55, 37, 32, 7],\n",
    "    # [43, 21, 44, 22]\n",
    "    # np.where(np.abs(evecs[:, 78]) > 0.05)[0],  # type-I, <pot> = 4\n",
    "    # np.where(np.abs(evecs[:, 43]) > 0.15)[0],  # type-I, <pot> = 6\n",
    "    # np.where(np.diag(two_steps_mat) == 4)[0],\n",
    "    # np.where(np.diag(two_steps_mat) == 6)[0],\n",
    "]\n",
    "highlight_color = [\n",
    "    \"aqua\",\n",
    "    # \"deepskyblue\",\n",
    "    # \"yellowgreen\",\n",
    "    # \"royalblue\",\n",
    "    # \"blueviolet\",\n",
    "    # \"cornflowerblue\",\n",
    "    # \"limegreen\",\n",
    "    # \"pink\"\n",
    "]\n",
    "for i, nodes in enumerate(highlight):\n",
    "    for node in nodes:\n",
    "        color[node] = highlight_color[i]\n",
    "ig.vs[\"color\"] = color\n",
    "# fig, ax = plt.subplots(figsize=(10, 10), facecolor=\"white\")\n",
    "# sub_ig = ig.induced_subgraph(np.where(np.diag(two_steps_mat) == 4)[0])\n",
    "# sub_ig = ig.induced_subgraph(np.where(np.abs(evecs[:, 43]) > 0.1)[0])\n",
    "igraph.plot(\n",
    "    ig,\n",
    "    layout=ig.layout_kamada_kawai(),\n",
    "    vertex_size=12,\n",
    "    # vertex_color=\"orange\",\n",
    "    vertex_label_size=8,\n",
    "    # target=ax\n",
    ")"
   ],
   "metadata": {
    "collapsed": false
   },
   "id": "5fc482be27c5cc55"
  },
  {
   "cell_type": "code",
   "outputs": [],
   "source": [
    "net = nt.Network(filter_menu=True, select_menu=True, font_color=\"black\")\n",
    "net.from_nx(g)\n",
    "for node in net.nodes:\n",
    "    node[\"title\"] = str(node[\"id\"])\n",
    "net.show_buttons(filter_=['nodes', 'edges', 'physics'])\n",
    "net.write_html(\"nx.html\")"
   ],
   "metadata": {
    "collapsed": false
   },
   "id": "3f951b7a5faa0992",
   "execution_count": null
  },
  {
   "cell_type": "code",
   "outputs": [],
   "source": [
    "two_steps_mat = np.linalg.matrix_power(model.kinetic_term, 2)\n",
    "sort_idx = np.argsort(np.diag(two_steps_mat))\n",
    "\n",
    "plt.plot(np.diag(two_steps_mat[sort_idx, :][:, sort_idx]), linestyle=\"--\", marker=\"o\")\n",
    "plt.show()"
   ],
   "metadata": {
    "collapsed": false
   },
   "id": "7c168b6ddf290718",
   "execution_count": null
  },
  {
   "cell_type": "code",
   "outputs": [],
   "source": [
    "g = nx.from_numpy_array(two_steps_mat)\n",
    "ig = igraph.Graph.from_networkx(g)\n",
    "ig.vs[\"label\"] = [str(i) for i in range(ig.vcount())]\n",
    "sub_ig = ig.induced_subgraph(np.where(np.diag(two_steps_mat) == 4)[0])\n",
    "igraph.plot(\n",
    "    sub_ig,\n",
    "    # layout=sub_ig.layout_kamada_kawai(),\n",
    "    # vertex_size=8,\n",
    "    vertex_color=\"orange\",\n",
    "    # edge_width=0.4,\n",
    "    # edge_color=\"darkgray\",\n",
    "    # vertex_label_size=6,\n",
    "    inline=True\n",
    ")"
   ],
   "metadata": {
    "collapsed": false
   },
   "id": "c3bbcd50fe0b6b0",
   "execution_count": null
  },
  {
   "cell_type": "code",
   "outputs": [],
   "source": [
    "sub_components = sub_ig.connected_components(mode=\"weak\")\n",
    "\n",
    "for c in sub_components:\n",
    "    mat = nx.to_numpy_array(sub_ig.subgraph(c).to_networkx())\n",
    "    print(mat.shape[0] - np.linalg.matrix_rank(mat))"
   ],
   "metadata": {
    "collapsed": false
   },
   "id": "ee2cc3e86a8cf3ab",
   "execution_count": null
  },
  {
   "cell_type": "code",
   "outputs": [],
   "source": [
    "two_steps_mat = two_steps_mat[sort_idx, :][:, sort_idx]\n",
    "\n",
    "mask = np.where(np.diag(two_steps_mat) == 4)[0]\n",
    "two_steps_mat = two_steps_mat[mask[0]:mask[-1] + 1, mask[0]:mask[-1] + 1]\n",
    "# two_steps_mat = two_steps_mat - np.diagflat(np.diag(two_steps_mat))\n",
    "two_steps_mat[two_steps_mat < 2] = 0\n",
    "\n",
    "print(model.kinetic_term.shape[0] - np.linalg.matrix_rank(model.kinetic_term))\n",
    "print(two_steps_mat.shape[0] - np.linalg.matrix_rank(two_steps_mat))\n",
    "\n",
    "plt.matshow(two_steps_mat)\n",
    "plt.colorbar()"
   ],
   "metadata": {
    "collapsed": false
   },
   "id": "87fe726f61591626",
   "execution_count": null
  },
  {
   "cell_type": "code",
   "outputs": [],
   "source": [
    "two_steps_mat = nx.to_numpy_array(sub_ig.subgraph(sub_components[0]).to_networkx())\n",
    "# two_steps_mat = two_steps_mat - np.diagflat(np.diag(two_steps_mat))\n",
    "two_steps_mat[two_steps_mat < 2] = 0\n",
    "    \n",
    "g = nx.from_numpy_array(two_steps_mat)\n",
    "ig = igraph.Graph.from_networkx(g)\n",
    "igraph.plot(\n",
    "    ig,\n",
    "    # layout=sub_ig.layout_kamada_kawai(),\n",
    "    # vertex_size=8,\n",
    "    vertex_color=\"orange\",\n",
    "    # edge_width=0.4,\n",
    "    # edge_color=\"darkgray\",\n",
    "    # vertex_label_size=6,\n",
    "    inline=True\n",
    ")"
   ],
   "metadata": {
    "collapsed": false
   },
   "id": "28cf901bac114a7e",
   "execution_count": null
  },
  {
   "cell_type": "code",
   "outputs": [],
   "source": [
    "sub_components = ig.connected_components(mode=\"weak\")\n",
    "\n",
    "for c in sub_components:\n",
    "    mat = nx.to_numpy_array(ig.subgraph(c).to_networkx())\n",
    "    print(mat.shape[0] - np.linalg.matrix_rank(mat))"
   ],
   "metadata": {
    "collapsed": false
   },
   "id": "509329bda148e3ac",
   "execution_count": null
  },
  {
   "cell_type": "code",
   "execution_count": null,
   "outputs": [],
   "source": [
    "entropies = np.asarray([model.entropy(evecs[:, i], 2, 0) for i in range(basis.n_states)])\n",
    "entropy_df = pd.Series(entropies, name=\"entropy\")\n",
    "entropy_df[entropy_df < 1.9]"
   ],
   "metadata": {
    "collapsed": false
   },
   "id": "91d0a88670e8d2fd"
  },
  {
   "cell_type": "code",
   "execution_count": null,
   "outputs": [],
   "source": [
    "entropy_df.plot(style='o', grid=True)"
   ],
   "metadata": {
    "collapsed": false
   },
   "id": "23c4f0d66a38ffef"
  },
  {
   "cell_type": "code",
   "execution_count": null,
   "outputs": [],
   "source": [
    "i = 43\n",
    "plt.plot(evecs[:, i], linestyle='--', marker='o')\n",
    "np.where(np.abs(evecs[:, i]) > 0.1)[0]"
   ],
   "metadata": {
    "collapsed": false
   },
   "id": "38e3c6ef176fc38f"
  },
  {
   "cell_type": "code",
   "execution_count": null,
   "outputs": [],
   "source": [
    "# {i: len(np.where(np.abs(evecs[:, i]) > 1e-12)[0]) for i in range(300)}\n",
    "\n",
    "fig, axes = plt.subplots(4, 4, figsize=(32, 24), facecolor=\"white\")\n",
    "ax = axes.flatten()\n",
    "\n",
    "for i, val in enumerate(np.where(np.abs(evecs[:, 43]) > 0.1)[0][:16]):\n",
    "    g = GraphVisualizer(SquareLattice(*model.shape, basis.dataframe.iloc[val]))\n",
    "    g.plot(show=False, ax=ax[i], node_size=800)\n",
    "    ax[i].set_title(f\"{df.index[val]}\")"
   ],
   "metadata": {
    "collapsed": false
   },
   "id": "53cbdbd36d9c856d"
  },
  {
   "cell_type": "code",
   "execution_count": null,
   "outputs": [],
   "source": [
    "coup_j = np.ones((np.prod(model.shape), 1))\n",
    "coup_j[3] = 1.1\n",
    "energy_lump_model = QuantumLinkModel(coup_j, coup_rk, model.shape, basis)\n",
    "energy_lump_ham = energy_lump_model.hamiltonian\n",
    "\n",
    "# scar_state = np.zeros((basis.n_states, 1))\n",
    "# scar_state[np.array([25, 26, 67, 68]), 0] = np.array([1, -1, -1, 1])\n",
    "# scar_state /= np.linalg.norm(scar_state)\n",
    "scar_state = evecs[:, 81]\n",
    "\n",
    "start, stop, num = 0, 800, 100\n",
    "evol_states = expm_multiply(-1j * energy_lump_ham, scar_state, start=start, stop=stop, num=num)\n",
    "fidelity = [np.abs(evol_state.T @ scar_state).item() ** 2 for evol_state in evol_states]\n",
    "entropy = [model.entropy(evol_state.flatten(), 2, 0) for evol_state in evol_states]\n",
    "\n",
    "plt.plot(np.linspace(start, stop, num), fidelity, linestyle=\"--\", marker=\"o\")\n",
    "plt.ylim(0.0001, 1.1)\n",
    "# plt.yscale('log')\n",
    "plt.xlabel(\"t\")\n",
    "plt.ylabel(\"Fidelity(t)\")\n",
    "plt.tight_layout()\n",
    "plt.show()\n",
    "\n",
    "plt.plot(np.linspace(start, stop, num), np.round(entropy, 12), linestyle=\"--\", marker=\"o\")\n",
    "plt.xlabel(\"t\")\n",
    "plt.ylabel(\"EE(t)\")\n",
    "plt.tight_layout()\n",
    "plt.show()\n",
    "\n",
    "final_state = np.real_if_close(evol_states[-1], tol=1e-12)\n",
    "print(f\"final fidelity = {fidelity[-1]}\")\n",
    "print(f\"O_kin @ psi_scar = {(model.kinetic_term @ final_state).flatten()}\")\n",
    "print(f\"<O_kin> = {(final_state.T @ model.kinetic_term @ final_state).item()}\")\n",
    "print(f\"<O_pot> = {(final_state.T @ model.potential_term @ final_state).item()}\")\n",
    "print(f\"<H> = {(final_state.T @ model.hamiltonian @ final_state).item()}\")"
   ],
   "metadata": {
    "collapsed": false
   },
   "id": "d14a87c7fdf0ce69"
  },
  {
   "cell_type": "markdown",
   "source": [
    "# QDM Lattice 6x2"
   ],
   "metadata": {
    "collapsed": false
   },
   "id": "6346eaa77afd812"
  },
  {
   "cell_type": "code",
   "execution_count": null,
   "outputs": [],
   "source": [
    "coup_j, coup_rk = (1, 1)\n",
    "basis, model = setup_dimer_model(lattice_shape=(6, 2), n_solution=76, coup_j=coup_j, coup_rk=coup_rk)\n",
    "evals, evecs = np.linalg.eigh(model.hamiltonian)"
   ],
   "metadata": {
    "collapsed": false
   },
   "id": "18099fc9043f985a"
  },
  {
   "cell_type": "code",
   "execution_count": null,
   "outputs": [],
   "source": [
    "df = basis.dataframe.copy(deep=True)\n",
    "df.index = format_custom_index(df.index)\n",
    "df"
   ],
   "metadata": {
    "collapsed": false
   },
   "id": "8ca494a5e8c18e56"
  },
  {
   "cell_type": "code",
   "execution_count": null,
   "outputs": [],
   "source": [
    "evecs_df = pd.DataFrame.from_dict(\n",
    "    {\n",
    "        \"eval\": evals, \n",
    "        \"kin\": [(evec.T @ model.kinetic_term @ evec).item() for evec in evecs.T],\n",
    "        \"pot\": [(evec.T @ model.potential_term @ evec).item() for evec in evecs.T],\n",
    "    }\n",
    ")\n",
    "evecs_df[evecs_df[\"kin\"].abs() < 1e-12]"
   ],
   "metadata": {
    "collapsed": false
   },
   "id": "9031c60a189716c2"
  },
  {
   "cell_type": "markdown",
   "source": [
    "3 type I\n",
    "4 as type III A or Type II? \n",
    "or maybe these 2 types can be treated as the same "
   ],
   "metadata": {
    "collapsed": false
   },
   "id": "66c8bc1b2c9e8558"
  },
  {
   "cell_type": "code",
   "execution_count": null,
   "outputs": [],
   "source": [
    "evecs_df.plot(style='.', grid=True)"
   ],
   "metadata": {
    "collapsed": false
   },
   "id": "44c9afcb33d53f43"
  },
  {
   "cell_type": "code",
   "outputs": [],
   "source": [
    "plt.matshow(evecs[:, 34:42].T)\n",
    "plt.colorbar()"
   ],
   "metadata": {
    "collapsed": false
   },
   "id": "74865c7794ba2d5",
   "execution_count": null
  },
  {
   "cell_type": "code",
   "outputs": [],
   "source": [
    "k_rank = np.linalg.matrix_rank(model.kinetic_term)\n",
    "h_rank = np.linalg.matrix_rank(model.hamiltonian)\n",
    "print(k_rank, h_rank, basis.n_states, (basis.n_states - k_rank) / basis.n_states)"
   ],
   "metadata": {
    "collapsed": false
   },
   "id": "af400eabdf9804ff",
   "execution_count": null
  },
  {
   "cell_type": "code",
   "outputs": [],
   "source": [
    "plt.spy(evecs, precision=1e-12, markersize=1)\n",
    "plt.show()"
   ],
   "metadata": {
    "collapsed": false
   },
   "id": "dba968a8d1fc4dfc",
   "execution_count": null
  },
  {
   "cell_type": "code",
   "execution_count": null,
   "outputs": [],
   "source": [
    "g = nx.from_numpy_array(-model.kinetic_term)\n",
    "ig = igraph.Graph.from_networkx(g)\n",
    "ig.vs[\"label\"] = [str(i) for i in range(ig.vcount())]\n",
    "color = [\"whitesmoke\" for i in range(ig.vcount())]\n",
    "highlight = [\n",
    "    np.where(np.diag(two_steps_mat) == 2)[0],\n",
    "    np.where(np.diag(two_steps_mat) == 3)[0],\n",
    "    np.where(np.diag(two_steps_mat) == 4)[0],\n",
    "    np.where(np.diag(two_steps_mat) == 5)[0],\n",
    "    # np.where(evecs[:, 40] > 0.1)[0],\n",
    "    # np.where(evecs[:, 40] < -0.1)[0],\n",
    "]\n",
    "highlight_color = [\n",
    "    # \"aqua\",\n",
    "    # \"deepskyblue\",\n",
    "    \"yellowgreen\",\n",
    "    \"tomato\",\n",
    "    \"royalblue\",\n",
    "    # \"blueviolet\",\n",
    "    # \"cornflowerblue\",\n",
    "    # \"limegreen\",\n",
    "    \"pink\"\n",
    "]\n",
    "for i, nodes in enumerate(highlight):\n",
    "    for node in nodes:\n",
    "        color[node] = highlight_color[i]\n",
    "ig.vs[\"color\"] = color\n",
    "# fig, ax = plt.subplots(figsize=(10, 8), facecolor=\"white\")\n",
    "# sub_ig = ig.induced_subgraph(np.where(np.diag(two_steps_mat) == 4)[0])\n",
    "igraph.plot(\n",
    "    ig,\n",
    "    layout=ig.layout_kamada_kawai(),\n",
    "    vertex_size=14,\n",
    "    # vertex_color=\"orange\",\n",
    "    vertex_label_size=10,\n",
    "    # target=ax\n",
    ")"
   ],
   "metadata": {
    "collapsed": false
   },
   "id": "340b5e3a2df8a9bf"
  },
  {
   "cell_type": "code",
   "outputs": [],
   "source": [
    "sub_components = sub_ig.connected_components(mode=\"weak\")\n",
    "\n",
    "for c in sub_components:\n",
    "    mat = nx.to_numpy_array(sub_ig.subgraph(c).to_networkx())\n",
    "    print(mat.shape[0] - np.linalg.matrix_rank(mat))"
   ],
   "metadata": {
    "collapsed": false
   },
   "id": "b895a90e62f72b6e",
   "execution_count": null
  },
  {
   "cell_type": "code",
   "outputs": [],
   "source": [
    "np.linalg.eigh(nx.to_numpy_array(sub_ig.subgraph(sub_components[0]).to_networkx()))[1][:, 5:7]"
   ],
   "metadata": {
    "collapsed": false
   },
   "id": "9f79d0bec743edf6",
   "execution_count": null
  },
  {
   "cell_type": "code",
   "outputs": [],
   "source": [
    "net = nt.Network(filter_menu=True, select_menu=True, font_color=\"black\")\n",
    "net.from_nx(g)\n",
    "for node in net.nodes:\n",
    "    node[\"title\"] = str(node[\"id\"])\n",
    "net.show_buttons(filter_=['nodes', 'edges', 'physics'])\n",
    "net.write_html(\"nx.html\")"
   ],
   "metadata": {
    "collapsed": false
   },
   "id": "d3a390c52be8546d",
   "execution_count": null
  },
  {
   "cell_type": "code",
   "outputs": [],
   "source": [
    "two_steps_mat = np.linalg.matrix_power(model.kinetic_term, 2)\n",
    "sort_idx = np.argsort(np.diag(two_steps_mat))\n",
    "\n",
    "plt.plot(np.diag(two_steps_mat[sort_idx, :][:, sort_idx]), linestyle=\"--\", marker=\"o\")\n",
    "plt.show()"
   ],
   "metadata": {
    "collapsed": false
   },
   "id": "b5aa4caa45b6bad3",
   "execution_count": null
  },
  {
   "cell_type": "code",
   "outputs": [],
   "source": [
    "g = nx.from_numpy_array(two_steps_mat)\n",
    "ig = igraph.Graph.from_networkx(g)\n",
    "ig.vs[\"label\"] = [str(i) for i in range(ig.vcount())]\n",
    "color = [\"whitesmoke\" for i in range(ig.vcount())]\n",
    "highlight = [\n",
    "    # np.where(np.diag(two_steps_mat) == 3)[0],\n",
    "    # np.where(np.diag(two_steps_mat) == 4)[0],\n",
    "    # np.where(np.diag(two_steps_mat) == 5)[0],\n",
    "    # np.where(np.abs(evecs[:, 39]) > 0.15)[0],\n",
    "]\n",
    "highlight_color = [\n",
    "    # \"aqua\",\n",
    "    # \"deepskyblue\",\n",
    "    # \"tomato\",\n",
    "    # \"yellowgreen\",\n",
    "    # \"royalblue\",\n",
    "    # \"blueviolet\",\n",
    "    # \"cornflowerblue\",\n",
    "    # \"limegreen\",\n",
    "    # \"pink\"\n",
    "]\n",
    "for i, nodes in enumerate(highlight):\n",
    "    for node in nodes:\n",
    "        color[node] = highlight_color[i]\n",
    "ig.vs[\"color\"] = color\n",
    "sub_ig = ig.induced_subgraph(np.where((np.diag(two_steps_mat) == 5) | (np.diag(two_steps_mat) == 4))[0])\n",
    "igraph.plot(\n",
    "    sub_ig,\n",
    "    # layout=ig.layout_kamada_kawai(),\n",
    "    # vertex_size=8,\n",
    "    # vertex_color=\"orange\",\n",
    "    # edge_width=0.4,\n",
    "    # edge_color=\"darkgray\",\n",
    "    # vertex_label_size=6,\n",
    "    inline=True\n",
    ")"
   ],
   "metadata": {
    "collapsed": false
   },
   "id": "a173656f26a22015",
   "execution_count": null
  },
  {
   "cell_type": "code",
   "outputs": [],
   "source": [
    "sub_components = sub_ig.connected_components(mode=\"weak\")\n",
    "\n",
    "for c in sub_components:\n",
    "    mat = nx.to_numpy_array(sub_ig.subgraph(c).to_networkx())\n",
    "    print(mat.shape[0] - np.linalg.matrix_rank(mat))"
   ],
   "metadata": {
    "collapsed": false
   },
   "id": "b0fbb8f432c34067",
   "execution_count": null
  },
  {
   "cell_type": "code",
   "outputs": [],
   "source": [
    "nx.to_numpy_array(sub_ig.subgraph(sub_components[1]).to_networkx())"
   ],
   "metadata": {
    "collapsed": false
   },
   "id": "2caf6af5e241d9e4",
   "execution_count": null
  },
  {
   "cell_type": "code",
   "outputs": [],
   "source": [
    "np.linalg.eigh(nx.to_numpy_array(sub_ig.subgraph(sub_components[0]).to_networkx()))"
   ],
   "metadata": {
    "collapsed": false
   },
   "id": "ad25fa54503e09c",
   "execution_count": null
  },
  {
   "cell_type": "code",
   "outputs": [],
   "source": [
    "# g = nx.from_numpy_array(two_steps_mat)\n",
    "g = nx.from_numpy_array(-model.kinetic_term)\n",
    "ig = igraph.Graph.from_networkx(g)\n",
    "ig.vs[\"label\"] = [str(i) for i in range(ig.vcount())]\n",
    "color = [\"whitesmoke\" for i in range(ig.vcount())]\n",
    "highlight = [\n",
    "    # list(map(int, sub_ig.subgraph(sub_components[0]).vs[\"label\"])),\n",
    "    # list(map(int, sub_ig.subgraph(sub_components[1]).vs[\"label\"])),\n",
    "    # list(map(int, sub_ig.subgraph(sub_components[2]).vs[\"label\"])),\n",
    "    np.where(np.abs(evecs[:, 36]) > 0.08)[0],\n",
    "    # np.where(np.diag(two_steps_mat) == 4)[0]\n",
    "    # [7, 12, 34, 41, 57, 68]\n",
    "]\n",
    "highlight_color = [\n",
    "    # \"tomato\",\n",
    "    \"yellowgreen\",\n",
    "    # \"royalblue\",\n",
    "    # \"aqua\",\n",
    "]\n",
    "for i, nodes in enumerate(highlight):\n",
    "    for node in nodes:\n",
    "        color[node] = highlight_color[i]\n",
    "ig.vs[\"color\"] = color\n",
    "# sub_ig = ig.induced_subgraph(np.where(np.diag(two_steps_mat) == 4)[0])\n",
    "# sub_ig = ig.induced_subgraph(np.where(np.abs(evecs[:, 40]) > 0.05)[0])\n",
    "igraph.plot(\n",
    "    ig,\n",
    "    layout=ig.layout_kamada_kawai(),\n",
    "    vertex_size=14,\n",
    "    # vertex_color=\"orange\",\n",
    "    edge_width=0.2,\n",
    "    # edge_color=\"gray\"\n",
    "    vertex_label_size=8,\n",
    ")"
   ],
   "metadata": {
    "collapsed": false
   },
   "id": "938a1c957396ea77",
   "execution_count": null
  },
  {
   "cell_type": "code",
   "outputs": [],
   "source": [
    "two_steps_mat = two_steps_mat[sort_idx, :][:, sort_idx]\n",
    "\n",
    "mask = np.where((np.diag(two_steps_mat) == 4))[0]\n",
    "two_steps_mat = two_steps_mat[mask[0]:mask[-1] + 1, mask[0]:mask[-1] + 1]\n",
    "# two_steps_mat = two_steps_mat - np.diagflat(np.diag(two_steps_mat))\n",
    "# two_steps_mat[two_steps_mat < 2] = 0\n",
    "\n",
    "print(model.kinetic_term.shape[0] - np.linalg.matrix_rank(model.kinetic_term))\n",
    "print(two_steps_mat.shape[0] - np.linalg.matrix_rank(two_steps_mat))\n",
    "\n",
    "plt.matshow(two_steps_mat)\n",
    "plt.colorbar()"
   ],
   "metadata": {
    "collapsed": false
   },
   "id": "8ca71a7058492016",
   "execution_count": null
  },
  {
   "cell_type": "code",
   "outputs": [],
   "source": [
    "fig, axes = plt.subplots(19, 4, figsize=(30, 60), facecolor=\"white\")\n",
    "ax = axes.flatten()\n",
    "\n",
    "for i in range(basis.n_states):\n",
    "    g = GraphVisualizer(SquareLattice(*model.shape, basis.dataframe.iloc[i]))\n",
    "    g.plot(show=False, ax=ax[i], node_size=800)\n",
    "    ax[i].set_title(f\"{df.index[i]}\")"
   ],
   "metadata": {
    "collapsed": false
   },
   "id": "93689777459823ab",
   "execution_count": null
  },
  {
   "cell_type": "code",
   "execution_count": null,
   "outputs": [],
   "source": [
    "entropies = np.asarray([model.entropy(evecs[:, i], 0, 0) for i in range(basis.n_states)])\n",
    "entropy_df = pd.Series(entropies, name=\"entropy\")\n",
    "entropy_df.loc[(entropy_df.index >= 20) & (entropy_df.index <= 50) & (entropy_df < 1.75)]"
   ],
   "metadata": {
    "collapsed": false
   },
   "id": "4db610292ebda4cb"
  },
  {
   "cell_type": "code",
   "execution_count": null,
   "outputs": [],
   "source": [
    "entropy_df.plot(style='o')"
   ],
   "metadata": {
    "collapsed": false
   },
   "id": "dbb0770587573278"
  },
  {
   "cell_type": "code",
   "execution_count": null,
   "outputs": [],
   "source": [
    "i = 37\n",
    "plt.plot(evecs[:, i], linestyle='--', marker='o')\n",
    "plt.axvline(25, linestyle='--', color='gray')\n",
    "plt.axvline(50, linestyle='--', color='gray')\n",
    "plt.grid()\n",
    "np.where(np.abs(evecs[:, i]) > 0.2)[0]"
   ],
   "metadata": {
    "collapsed": false
   },
   "id": "c3fce23f5702d8a2"
  },
  {
   "cell_type": "code",
   "outputs": [],
   "source": [
    "g = nx.from_numpy_array(-model.kinetic_term)\n",
    "degree_sequence = sorted((d for n, d in g.degree(np.where(np.abs(evecs[:, 38]) > 0.01)[0])), reverse=True)\n",
    "plt.plot(degree_sequence, linestyle='--', marker='o')\n",
    "plt.grid()\n",
    "np.mean(degree_sequence)"
   ],
   "metadata": {
    "collapsed": false
   },
   "id": "8ecd11c44c03b968",
   "execution_count": null
  },
  {
   "cell_type": "code",
   "outputs": [],
   "source": [
    "cyc_g = nx.cycle_graph(6)\n",
    "mat = 4 * np.eye(6) + 2 * nx.to_numpy_array(cyc_g)\n",
    "evals2, evecs2 = np.linalg.eigh(mat)\n",
    "evals2"
   ],
   "metadata": {
    "collapsed": false
   },
   "id": "fb85d52a2f2a5308",
   "execution_count": null
  },
  {
   "cell_type": "code",
   "outputs": [],
   "source": [
    "evecs2[:, 0]"
   ],
   "metadata": {
    "collapsed": false
   },
   "id": "14d7d867ac6da99c",
   "execution_count": null
  },
  {
   "cell_type": "code",
   "execution_count": null,
   "outputs": [],
   "source": [
    "coup_j = np.ones((np.prod(model.shape), 1))\n",
    "# coup_j[0] = 1.05\n",
    "energy_lump_model = QuantumLinkModel(coup_j, coup_rk, model.shape, basis)\n",
    "energy_lump_ham = energy_lump_model.hamiltonian\n",
    "\n",
    "scar_state = np.zeros((basis.n_states, 1))\n",
    "# scar_state[np.array([30, 45, 49, 26, 29, 44, 15, 52, 60, 17, 23, 62]), 0] = np.array([-1, -1, -1, 1, 1, 1, 1, 1, 1, -1, -1, -1])  # based on 44\n",
    "# scar_state[np.array([3, 11, 16, 32, 36, 47, 58, 69]), 0] = np.array([1, -1, -1, 1, 1, -1, 1, -1])  # based on 24\n",
    "scar_state[np.array([6, 9, 22, 28, 39, 43]), 0] = evecs2[:, 0].flatten()\n",
    "scar_state /= np.linalg.norm(scar_state)\n",
    "# scar_state = evecs[:, 44]\n",
    "\n",
    "start, stop, num = 0, 2000, 100\n",
    "evol_states = expm_multiply(-1j * energy_lump_ham, scar_state, start=start, stop=stop, num=num)\n",
    "fidelity = [np.abs(evol_state.T @ scar_state).item() ** 2 for evol_state in evol_states]\n",
    "entropy = [model.entropy(evol_state.flatten(), 1, 0) for evol_state in evol_states]\n",
    "\n",
    "plt.plot(np.linspace(start, stop, num), fidelity, linestyle=\"--\", marker=\"o\")\n",
    "plt.ylim(0.0001, 1.1)\n",
    "# plt.yscale('log')\n",
    "plt.xlabel(\"t\")\n",
    "plt.ylabel(\"Fidelity(t)\")\n",
    "plt.tight_layout()\n",
    "plt.show()\n",
    "\n",
    "plt.plot(np.linspace(start, stop, num), entropy, linestyle=\"--\", marker=\"o\")\n",
    "plt.xlabel(\"t\")\n",
    "plt.ylabel(\"EE(t)\")\n",
    "plt.tight_layout()\n",
    "plt.show()\n",
    "\n",
    "final_state = np.real_if_close(evol_states[0], tol=1e-12)\n",
    "print(f\"final fidelity = {fidelity[0]}\")\n",
    "print(f\"O_kin @ psi_scar = {(model.kinetic_term @ final_state).flatten()}\")\n",
    "print(f\"<O_kin> = {(final_state.T @ model.kinetic_term @ final_state).item()}\")\n",
    "print(f\"<O_pot> = {(final_state.T @ model.potential_term @ final_state).item()}\")\n",
    "print(f\"<H> = {(final_state.T @ model.hamiltonian @ final_state).item()}\")"
   ],
   "metadata": {
    "collapsed": false
   },
   "id": "55107fc9c816e63"
  },
  {
   "cell_type": "markdown",
   "source": [
    "\n",
    "# QDM Lattice 6x4"
   ],
   "metadata": {
    "collapsed": false
   },
   "id": "24d5cca304f26c02"
  },
  {
   "cell_type": "code",
   "execution_count": null,
   "outputs": [],
   "source": [
    "coup_j, coup_rk = (1, -0.7)\n",
    "basis, model = setup_dimer_model(lattice_shape=(6, 4), n_solution=1456, coup_j=coup_j, coup_rk=coup_rk)\n",
    "evals, evecs = np.linalg.eigh(model.hamiltonian.toarray())"
   ],
   "metadata": {
    "collapsed": false
   },
   "id": "f2996d5a6393a315"
  },
  {
   "cell_type": "code",
   "execution_count": null,
   "outputs": [],
   "source": [
    "df = basis.dataframe.copy(deep=True)\n",
    "df.index = format_custom_index(df.index)\n",
    "df"
   ],
   "metadata": {
    "collapsed": false
   },
   "id": "b818a0f65d5478ae"
  },
  {
   "cell_type": "code",
   "execution_count": null,
   "outputs": [],
   "source": [
    "evecs_df = pd.DataFrame.from_dict(\n",
    "    {\n",
    "        \"eval\": evals, \n",
    "        \"kin\": [(evec.T @ model.kinetic_term @ evec).item() for evec in evecs.T],\n",
    "        \"pot\": [(evec.T @ model.potential_term @ evec).item() for evec in evecs.T],\n",
    "    }\n",
    ")\n",
    "evecs_df[evecs_df[\"kin\"].abs() < 1e-12]"
   ],
   "metadata": {
    "collapsed": false
   },
   "id": "899acd0dc9afbf7b"
  },
  {
   "cell_type": "code",
   "execution_count": null,
   "outputs": [],
   "source": [
    "evecs_df.plot(style='.', grid=True, markersize=1)"
   ],
   "metadata": {
    "collapsed": false
   },
   "id": "ed4bfc999ca3c253"
  },
  {
   "cell_type": "code",
   "execution_count": null,
   "outputs": [],
   "source": [
    "k_rank = np.linalg.matrix_rank(model.kinetic_term)\n",
    "h_rank = np.linalg.matrix_rank(model.hamiltonian)\n",
    "print(k_rank, h_rank, basis.n_states, (basis.n_states - k_rank) / basis.n_states)"
   ],
   "metadata": {
    "collapsed": false
   },
   "id": "3f346bf694e6650c"
  },
  {
   "cell_type": "code",
   "execution_count": null,
   "outputs": [],
   "source": [
    "plt.spy(evecs, precision=1e-12, markersize=0.01)\n",
    "plt.show()"
   ],
   "metadata": {
    "collapsed": false
   },
   "id": "68671163a7dee363"
  },
  {
   "cell_type": "code",
   "execution_count": null,
   "outputs": [],
   "source": [
    "g = nx.from_numpy_array(-model.kinetic_term)\n",
    "ig = igraph.Graph.from_networkx(g)\n",
    "ig.vs[\"label\"] = [str(i) for i in range(ig.vcount())]\n",
    "color = [\"orange\" for i in range(ig.vcount())]\n",
    "highlight = [\n",
    "    # [1099, 1102, 1239, 1256],\n",
    "    # [604, 601, 331, 311],\n",
    "    # [830, 891, 205, 117],\n",
    "    # [355, 868, 808, 352],\n",
    "    # [390, 367, 655, 695], \n",
    "    # [1047, 1212, 1226, 1082],\n",
    "]\n",
    "highlight_color = [\n",
    "    # \"aqua\",\n",
    "    # \"deepskyblue\",\n",
    "    # \"yellowgreen\",\n",
    "    # \"royalblue\",\n",
    "    # \"blueviolet\",\n",
    "    # \"cornflowerblue\"\n",
    "]\n",
    "for i, nodes in enumerate(highlight):\n",
    "    for node in nodes:\n",
    "        color[node] = highlight_color[i]\n",
    "ig.vs[\"color\"] = color\n",
    "# sub_ig = ig.induced_subgraph(np.where(np.diag(two_steps_mat) == 4)[0])\n",
    "fig, ax = plt.subplots(figsize=(10, 10), facecolor=\"white\")\n",
    "igraph.plot(\n",
    "    ig,\n",
    "    layout=ig.layout_kamada_kawai(),\n",
    "    vertex_size=32,\n",
    "    # vertex_color=\"orange\",\n",
    "    edge_width=0.4,\n",
    "    # edge_color=\"darkgray\",\n",
    "    vertex_label_size=6,\n",
    "    target=ax\n",
    ")\n",
    "fig.tight_layout()\n",
    "fig.savefig(\"qdm_6x4_kinetic_graph.png\", dpi=300)"
   ],
   "metadata": {
    "collapsed": false
   },
   "id": "d3119c53d132456c"
  },
  {
   "cell_type": "code",
   "outputs": [],
   "source": [
    "sub_components = sub_ig.connected_components(mode=\"weak\")\n",
    "\n",
    "for c in sub_components:\n",
    "    mat = nx.to_numpy_array(sub_ig.subgraph(c).to_networkx())\n",
    "    print(mat.shape[0] - np.linalg.matrix_rank(mat))"
   ],
   "metadata": {
    "collapsed": false
   },
   "id": "bc19c7b7238109c1",
   "execution_count": null
  },
  {
   "cell_type": "code",
   "outputs": [],
   "source": [
    "np.linalg.eigh(nx.to_numpy_array(sub_ig.subgraph(sub_components[0]).to_networkx()))[1][:, 3:6]"
   ],
   "metadata": {
    "collapsed": false
   },
   "id": "5101502a10abb23",
   "execution_count": null
  },
  {
   "cell_type": "code",
   "outputs": [],
   "source": [
    "net = nt.Network(filter_menu=True, select_menu=True, font_color=\"black\")\n",
    "net.from_nx(g)\n",
    "for node in net.nodes:\n",
    "    node[\"title\"] = str(node[\"id\"])\n",
    "net.show_buttons(filter_=['nodes', 'edges', 'physics'])\n",
    "net.write_html(\"nx.html\")"
   ],
   "metadata": {
    "collapsed": false
   },
   "id": "ec885b19154c899c",
   "execution_count": null
  },
  {
   "cell_type": "code",
   "outputs": [],
   "source": [
    "two_steps_mat = np.linalg.matrix_power(model.kinetic_term, 2)\n",
    "sort_idx = np.argsort(np.diag(two_steps_mat))\n",
    "\n",
    "plt.plot(np.diag(two_steps_mat[sort_idx, :][:, sort_idx]), linestyle=\"--\", marker=\"o\")\n",
    "plt.show()"
   ],
   "metadata": {
    "collapsed": false
   },
   "id": "471bda919d8f2e60",
   "execution_count": null
  },
  {
   "cell_type": "code",
   "outputs": [],
   "source": [
    "g = nx.from_numpy_array(two_steps_mat)\n",
    "ig = igraph.Graph.from_networkx(g)\n",
    "ig.vs[\"label\"] = [str(i) for i in range(ig.vcount())]\n",
    "sub_ig = ig.induced_subgraph(np.where(np.diag(two_steps_mat) == 4)[0])\n",
    "igraph.plot(\n",
    "    sub_ig,\n",
    "    # layout=sub_ig.layout_kamada_kawai(),\n",
    "    # vertex_size=8,\n",
    "    vertex_color=\"orange\",\n",
    "    # edge_width=0.4,\n",
    "    # edge_color=\"darkgray\",\n",
    "    # vertex_label_size=6,\n",
    "    inline=True\n",
    ")"
   ],
   "metadata": {
    "collapsed": false
   },
   "id": "95d37514a0473ba6",
   "execution_count": null
  },
  {
   "cell_type": "code",
   "outputs": [],
   "source": [
    "sub_components = sub_ig.connected_components(mode=\"weak\")\n",
    "\n",
    "for c in sub_components:\n",
    "    mat = nx.to_numpy_array(sub_ig.subgraph(c).to_networkx())\n",
    "    print(mat.shape[0] - np.linalg.matrix_rank(mat))"
   ],
   "metadata": {
    "collapsed": false
   },
   "id": "c72328ef50999c99",
   "execution_count": null
  },
  {
   "cell_type": "code",
   "execution_count": null,
   "outputs": [],
   "source": [
    "entropies = np.asarray([model.entropy(evecs[:, i], 1, 0) for i in range(basis.n_states)])\n",
    "entropy_df = pd.Series(entropies, name=\"entropy\")\n",
    "entropy_df[entropy_df < 2.0]"
   ],
   "metadata": {
    "collapsed": false
   },
   "id": "6e58b8f98b5535f1"
  },
  {
   "cell_type": "code",
   "execution_count": null,
   "outputs": [],
   "source": [
    "entropy_df.plot(style='o')"
   ],
   "metadata": {
    "collapsed": false
   },
   "id": "89e25589c8f8cd1"
  },
  {
   "cell_type": "code",
   "execution_count": null,
   "outputs": [],
   "source": [
    "i = 231\n",
    "plt.plot(evecs[:, i], linestyle='--', marker='o')\n",
    "np.where(np.abs(evecs[:, i]) > 0.075)[0]"
   ],
   "metadata": {
    "collapsed": false
   },
   "id": "87196d04de5be9ea"
  },
  {
   "cell_type": "code",
   "execution_count": null,
   "outputs": [],
   "source": [
    "fig, axes = plt.subplots(2, 2, figsize=(16, 12), facecolor=\"white\")\n",
    "ax = axes.flatten()\n",
    "\n",
    "for i, val in enumerate(np.where(np.abs(evecs[:, 231]) > 0.075)[0][:4]):  \n",
    "    #([891, 829, 1213, 354]):  #[1099, 1102, 1239, 1256]\n",
    "    g = GraphVisualizer(SquareLattice(*model.shape, basis.dataframe.iloc[val]))\n",
    "    g.plot(show=False, ax=ax[i], node_size=800)\n",
    "    ax[i].set_title(f\"{df.index[val]}\")"
   ],
   "metadata": {
    "collapsed": false
   },
   "id": "c5d5edd14f93ed20"
  },
  {
   "cell_type": "code",
   "execution_count": null,
   "outputs": [],
   "source": [
    "g = GraphVisualizer(SquareLattice(*model.shape, basis.dataframe.iloc[1213]))\n",
    "g.plot(node_size=800)"
   ],
   "metadata": {
    "collapsed": false
   },
   "id": "a1aa2ef28a505f1b"
  },
  {
   "cell_type": "code",
   "execution_count": null,
   "outputs": [],
   "source": [
    "coup_j = np.ones((np.prod(model.shape), 1))\n",
    "# coup_j[0] = 1.1\n",
    "energy_lump_model = QuantumLinkModel(coup_j, coup_rk, model.shape, basis)\n",
    "energy_lump_ham = energy_lump_model.hamiltonian\n",
    "\n",
    "scar_state = np.zeros((basis.n_states, 1))\n",
    "# scar_state[np.array([1099, 1102, 1239, 1256]), 0] = np.array([1, -1, -1, 1])\n",
    "scar_state[np.array([117, 118, 205, 828, 829, 830, 831, 885, 891]), 0] = np.array([0.55255026,  0.21474467, -0.20558535, -0.21474467, -0.34696492,\n",
    "        -0.20558535,  0.21474467, -0.21474467,  0.55255026])\n",
    "scar_state /= np.linalg.norm(scar_state)\n",
    "\n",
    "start, stop, num = 0, 200, 100\n",
    "evol_states = expm_multiply(-1j * energy_lump_ham, scar_state, start=start, stop=stop, num=num)\n",
    "fidelity = [np.abs(evol_state.T @ scar_state).item() ** 2 for evol_state in evol_states]\n",
    "entropy = [model.entropy(evol_state.flatten(), 1, 0) for evol_state in evol_states]\n",
    "\n",
    "plt.plot(np.linspace(start, stop, num), fidelity, linestyle=\"--\", marker=\"o\")\n",
    "plt.ylim(0.0001, 1.1)\n",
    "# plt.yscale('log')\n",
    "plt.xlabel(\"t\")\n",
    "plt.ylabel(\"Fidelity(t)\")\n",
    "plt.tight_layout()\n",
    "plt.show()\n",
    "\n",
    "plt.plot(np.linspace(start, stop, num), entropy, linestyle=\"--\", marker=\"o\")\n",
    "plt.xlabel(\"t\")\n",
    "plt.ylabel(\"EE(t)\")\n",
    "plt.tight_layout()\n",
    "plt.show()\n",
    "\n",
    "final_state = np.real_if_close(evol_states[0], tol=1e-12)\n",
    "print(f\"final fidelity = {fidelity[0]}\")\n",
    "print(f\"O_kin @ psi_scar = {(model.kinetic_term @ final_state).flatten()}\")\n",
    "print(f\"<O_kin> = {(final_state.T @ model.kinetic_term @ final_state).item()}\")\n",
    "print(f\"<O_pot> = {(final_state.T @ model.potential_term @ final_state).item()}\")\n",
    "print(f\"<H> = {(final_state.T @ model.hamiltonian @ final_state).item()}\")"
   ],
   "metadata": {
    "collapsed": false
   },
   "id": "822d4533de3a38e9"
  },
  {
   "cell_type": "markdown",
   "source": [
    "# QDM Lattice 8x4"
   ],
   "metadata": {
    "collapsed": false
   },
   "id": "ee43739ff5b1b4fb"
  },
  {
   "cell_type": "code",
   "execution_count": null,
   "outputs": [],
   "source": [
    "coup_j, coup_rk = (1, 1)  # dfs 2 mins 50 secs\n",
    "basis, model = setup_dimer_model(lattice_shape=(8, 4), n_solution=17412, coup_j=coup_j, coup_rk=coup_rk) "
   ],
   "metadata": {
    "collapsed": false
   },
   "id": "8c6fd1c7ad3dad32"
  },
  {
   "cell_type": "code",
   "execution_count": null,
   "outputs": [],
   "source": [
    "# basis.dataframe.to_parquet(\"qdm_8x4_lattice.parquet\", index=False)\n",
    "basis = ComputationBasis.from_parquet(\"data/qdm_8x4_lattice.parquet\")\n",
    "coup_j, coup_rk = (1, 0)\n",
    "model = QuantumLinkModel(coup_j, coup_rk, (8, 4), basis)"
   ],
   "metadata": {
    "collapsed": false
   },
   "id": "28462c061d0ccbb1"
  },
  {
   "cell_type": "code",
   "execution_count": null,
   "outputs": [],
   "source": [
    "df = basis.dataframe.copy(deep=True)\n",
    "df.index = format_custom_index(df.index)\n",
    "df"
   ],
   "metadata": {
    "collapsed": false
   },
   "id": "d5582e62b66c3a8e"
  },
  {
   "cell_type": "code",
   "outputs": [],
   "source": [
    "evals, evecs = np.load(\"data/qdm_8x4_coup_j_1_coup_rk_0_eigs.npz\").values()"
   ],
   "metadata": {
    "collapsed": false
   },
   "id": "fc2686163bf07b92",
   "execution_count": null
  },
  {
   "cell_type": "code",
   "outputs": [],
   "source": [
    "evecs_df = pd.read_parquet(\"data/qdm_8x4_coup_j_1_coup_rk_0_eigs.parquet\")\n",
    "evecs_df[(evecs_df[\"kin\"].abs() - np.sqrt(2)).abs() < 1e-12]"
   ],
   "metadata": {
    "collapsed": false
   },
   "id": "d785544e133ca6bf",
   "execution_count": null
  },
  {
   "cell_type": "code",
   "outputs": [],
   "source": [
    "evecs_df[evecs_df[\"pot\"] < 7]"
   ],
   "metadata": {
    "collapsed": false
   },
   "id": "f09b8427bad40d2e",
   "execution_count": null
  },
  {
   "cell_type": "code",
   "outputs": [],
   "source": [
    "evecs_df.plot(style='.', grid=True, markersize=1)"
   ],
   "metadata": {
    "collapsed": false
   },
   "id": "1c52cc7655b3b03f",
   "execution_count": null
  },
  {
   "cell_type": "code",
   "execution_count": null,
   "outputs": [],
   "source": [
    "plt.spy(evecs, precision=1e-12, markersize=0.05)\n",
    "plt.show()"
   ],
   "metadata": {
    "collapsed": false
   },
   "id": "6f468f925c4640b5"
  },
  {
   "cell_type": "code",
   "outputs": [],
   "source": [
    "i = 5590\n",
    "plt.plot(evecs[:, i], linestyle='--', marker='.')\n",
    "np.where(np.abs(evecs[:, i]) > 0.1)[0]"
   ],
   "metadata": {
    "collapsed": false
   },
   "id": "6acf0fe45a1fd31",
   "execution_count": null
  },
  {
   "cell_type": "code",
   "outputs": [],
   "source": [
    "g = nx.from_numpy_array(-model.kinetic_term)\n",
    "degree_sequence = sorted((d for n, d in g.degree(np.where(np.abs(evecs[:, 5602]) > 0.0001)[0])), reverse=True)\n",
    "plt.plot(degree_sequence, linestyle='--', marker='o')\n",
    "plt.grid()\n",
    "np.mean(degree_sequence)"
   ],
   "metadata": {
    "collapsed": false
   },
   "id": "f2930c3f077cf428",
   "execution_count": null
  },
  {
   "cell_type": "code",
   "outputs": [],
   "source": [
    "fig, axes = plt.subplots(4, 2, figsize=(18, 24), facecolor=\"white\")\n",
    "ax = axes.flatten()\n",
    "\n",
    "for i, val in enumerate(np.where(np.abs(evecs[:, 5587]) > 0.01)[0][:8]):\n",
    "    g = GraphVisualizer(SquareLattice(*model.shape, basis.dataframe.iloc[val]))\n",
    "    g.plot(show=False, ax=ax[i], node_size=800)\n",
    "    ax[i].set_title(f\"{df.index[val]}\")"
   ],
   "metadata": {
    "collapsed": false
   },
   "id": "615a98f69b9ae8e1",
   "execution_count": null
  },
  {
   "cell_type": "code",
   "outputs": [],
   "source": [
    "g = nx.from_numpy_array(-model.kinetic_term)\n",
    "ig = igraph.Graph.from_networkx(g)\n",
    "igraph.plot(\n",
    "    ig,\n",
    "    layout=ig.layout_kamada_kawai(),\n",
    "    vertex_size=4,\n",
    "    vertex_color=\"orange\",\n",
    "    edge_width=0.1,\n",
    "    # edge_color=\"gray\"\n",
    ")"
   ],
   "metadata": {
    "collapsed": false
   },
   "id": "afbc2579215bba43",
   "execution_count": null
  },
  {
   "cell_type": "code",
   "outputs": [],
   "source": [
    "g = nx.from_numpy_array(-model.kinetic_term)\n",
    "ig = igraph.Graph.from_networkx(g)\n",
    "sub_ig = ig.induced_subgraph(np.where(np.diag(two_steps_mat) == 7)[0])\n",
    "igraph.plot(\n",
    "    sub_ig,\n",
    "    # layout=ig.layout_kamada_kawai(),\n",
    "    vertex_size=4,\n",
    "    vertex_color=\"orange\",\n",
    "    edge_width=0.1,\n",
    "    # edge_color=\"gray\"\n",
    ")"
   ],
   "metadata": {
    "collapsed": false
   },
   "id": "9a8cf88d1bbe00ea",
   "execution_count": null
  },
  {
   "cell_type": "code",
   "outputs": [],
   "source": [
    "sub_components = sub_ig.connected_components(mode=\"weak\")\n",
    "\n",
    "nullity = []\n",
    "for c in sub_components:\n",
    "    mat = nx.to_numpy_array(sub_ig.subgraph(c).to_networkx())\n",
    "    nullity.append(mat.shape[0] - np.linalg.matrix_rank(mat))\n",
    "    \n",
    "np.unique(nullity, return_counts=True)"
   ],
   "metadata": {
    "collapsed": false
   },
   "id": "e72a8f0e2e60dbb9",
   "execution_count": null
  },
  {
   "cell_type": "code",
   "outputs": [],
   "source": [
    "two_steps_mat = csr_matrix(model.kinetic_term) ** 2\n",
    "# sort_idx = np.argsort(np.diag(two_steps_mat))\n",
    "# \n",
    "# plt.plot(np.diag(two_steps_mat[sort_idx, :][:, sort_idx]), linestyle=\"--\", marker=\"o\")\n",
    "# plt.show()\n",
    "print(np.unique(two_steps_mat.diagonal()))\n",
    "two_steps_mat = two_steps_mat.toarray()"
   ],
   "metadata": {
    "collapsed": false
   },
   "id": "f4d0f3384b41e113",
   "execution_count": null
  },
  {
   "cell_type": "code",
   "outputs": [],
   "source": [
    "# two_steps_mat[two_steps_mat < 2] = 0\n",
    "g = nx.from_numpy_array(two_steps_mat)\n",
    "ig = igraph.Graph.from_networkx(g)\n",
    "ig.vs[\"label\"] = [str(i) for i in range(ig.vcount())]\n",
    "color = [\"whitesmoke\" for i in range(ig.vcount())]\n",
    "highlight = [\n",
    "    # np.where(np.abs(evecs[:, 5590]) > 0.1)[0],\n",
    "    # np.where((np.diag(two_steps_mat) == 6))[0],\n",
    "    # np.where((np.diag(two_steps_mat) == 7))[0],\n",
    "]\n",
    "highlight_color = [\n",
    "    # \"aqua\",\n",
    "    # \"deepskyblue\",\n",
    "    # \"yellowgreen\",\n",
    "    # \"tomato\",\n",
    "    # \"royalblue\",\n",
    "    # \"cornflowerblue\"\n",
    "]\n",
    "for i, nodes in enumerate(highlight):\n",
    "    for node in nodes:\n",
    "        color[node] = highlight_color[i]\n",
    "ig.vs[\"color\"] = color\n",
    "sub_ig = ig.induced_subgraph(np.where(np.diag(two_steps_mat) == 8)[0])\n",
    "# sub_ig = ig.induced_subgraph(np.where((np.diag(two_steps_mat) == 6) | (np.diag(two_steps_mat) == 7))[0])\n",
    "igraph.plot(\n",
    "    sub_ig,\n",
    "    # layout=sub_ig.layout_kamada_kawai(),\n",
    "    vertex_size=6,\n",
    "    # vertex_color=\"orange\",\n",
    "    edge_width=0.2,\n",
    "    # edge_color=\"darkgray\",\n",
    "    vertex_label_size=2,\n",
    "    inline=True\n",
    ")"
   ],
   "metadata": {
    "collapsed": false
   },
   "id": "4575aa8c1c787aea",
   "execution_count": null
  },
  {
   "cell_type": "code",
   "outputs": [],
   "source": [
    "sub_components = sub_ig.connected_components(mode=\"weak\")\n",
    "\n",
    "for c in sub_components:\n",
    "    mat = nx.to_numpy_array(sub_ig.subgraph(c).to_networkx())\n",
    "    print(mat.shape[0] - np.linalg.matrix_rank(mat))"
   ],
   "metadata": {
    "collapsed": false
   },
   "id": "7780e1a8fcd3eb6a",
   "execution_count": null
  },
  {
   "cell_type": "code",
   "outputs": [],
   "source": [
    "g = nx.from_numpy_array(-model.kinetic_term)\n",
    "ig = igraph.Graph.from_networkx(g)\n",
    "color = [\"whitesmoke\" for i in range(ig.vcount())]\n",
    "highlight = [\n",
    "    np.where(np.diag(two_steps_mat) == 6)[0],\n",
    "    np.where(np.diag(two_steps_mat) == 7)[0],\n",
    "    # np.where(np.abs(evecs[:, 5587]) > 0.05)[0]\n",
    "]\n",
    "highlight_color = [\n",
    "    # \"aqua\",\n",
    "    # \"deepskyblue\",\n",
    "    # \"yellowgreen\",\n",
    "    \"tomato\",\n",
    "    \"royalblue\",\n",
    "    # \"cornflowerblue\"\n",
    "]\n",
    "for i, nodes in enumerate(highlight):\n",
    "    for node in nodes:\n",
    "        color[node] = highlight_color[i]\n",
    "ig.vs[\"color\"] = color\n",
    "sub_ig = ig.induced_subgraph(np.where((np.diag(two_steps_mat) == 6) | (np.diag(two_steps_mat) == 7))[0])\n",
    "igraph.plot(\n",
    "    sub_ig,\n",
    "    # layout=ig.layout_kamada_kawai(),\n",
    "    vertex_size=6,\n",
    "    # vertex_color=\"orange\",\n",
    "    edge_width=0.1,\n",
    "    # edge_color=\"gray\"\n",
    ")"
   ],
   "metadata": {
    "collapsed": false
   },
   "id": "f9ec34e3874d7e68",
   "execution_count": null
  },
  {
   "cell_type": "code",
   "outputs": [],
   "source": [
    "sub_components = sub_ig.components(mode=\"weak\")\n",
    "np.unique([len(c) for c in sub_components], return_counts=True)"
   ],
   "metadata": {
    "collapsed": false
   },
   "id": "c5fe64c17a15b65b",
   "execution_count": null
  },
  {
   "cell_type": "code",
   "outputs": [],
   "source": [
    "fig, ax = plt.subplots(figsize=(10, 10), facecolor=\"white\")\n",
    "for i, c in enumerate(sub_components): \n",
    "    sub_sub_ig = sub_ig.induced_subgraph(c)\n",
    "    colors, counts = np.unique(sub_sub_ig.vs[\"color\"], return_counts=True)\n",
    "    if len(counts) == 2:\n",
    "        if counts[0] == counts[1]:\n",
    "            print(i)\n",
    "            igraph.plot(\n",
    "                sub_sub_ig,\n",
    "                # layout=sub_sub_ig.layout_kamada_kawai(),\n",
    "                target=ax,\n",
    "                vertex_size=6,\n",
    "                # vertex_color=\"whitesmoke\",\n",
    "                edge_width=0.1,\n",
    "                # edge_color=\"gray\",\n",
    "                inline=True\n",
    "            )\n",
    "            break\n",
    "plt.show()"
   ],
   "metadata": {
    "collapsed": false
   },
   "id": "b2918399bd4b4120",
   "execution_count": null
  },
  {
   "cell_type": "code",
   "outputs": [],
   "source": [
    "sub_gmat = np.asarray(sub_ig.induced_subgraph(sub_components[2]).get_adjacency().data)\n",
    "np.linalg.eigh(sub_gmat)[0]"
   ],
   "metadata": {
    "collapsed": false
   },
   "id": "59c74d72c4cff5b5",
   "execution_count": null
  },
  {
   "cell_type": "code",
   "outputs": [],
   "source": [
    "n = 72\n",
    "2 * np.cos(2 * np.arange(1, n + 1) * np.pi / n)"
   ],
   "metadata": {
    "collapsed": false
   },
   "id": "8e2b56acfffaa86e",
   "execution_count": null
  },
  {
   "cell_type": "markdown",
   "source": [
    "# Check effective matrix"
   ],
   "metadata": {
    "collapsed": false
   },
   "id": "370d5c082e3aa104"
  },
  {
   "cell_type": "code",
   "execution_count": null,
   "outputs": [],
   "source": [
    "l = 0.0\n",
    "dj = 1.1\n",
    "\n",
    "mat = np.array(\n",
    "    [\n",
    "        [l, dj, dj, 0, 0, 0, 0, 0, 0],\n",
    "        [dj, l, 0, 1, 1, 0, 0, 0, 0], \n",
    "        [dj, 0, l, 0, 1, 1, 0, 0, 0], \n",
    "        [0, 1, 0, l, 0, 0, 1, 0, 0], \n",
    "        [0, 1, 1, 0, l, 0, 1, 1, 0], \n",
    "        [0, 0, 1, 0, 0, l, 0, 1, 0], \n",
    "        [0, 0, 0, 1, 1, 0, l, 0, 1],\n",
    "        [0, 0, 0, 0, 1, 1, 0, l, 1],\n",
    "        [0, 0, 0, 0, 0, 0, 1, 1, l]\n",
    "    ]\n",
    ")\n",
    "\n",
    "np.linalg.matrix_power(mat, 2) @ np.array([[0, 1, -1, 0, 0, 0, -1, 1, 0]]).T"
   ],
   "metadata": {
    "collapsed": false
   },
   "id": "3e6d88923923af98"
  },
  {
   "cell_type": "code",
   "execution_count": null,
   "outputs": [],
   "source": [
    "for i in range(20):\n",
    "    print(f\"matrix power {i+1}\")\n",
    "    walker = np.linalg.matrix_power(mat, i+1)\n",
    "    walker /= np.linalg.norm(walker)\n",
    "    plt.matshow(walker, animated=True)\n",
    "    plt.colorbar()\n",
    "    plt.show()\n",
    "    sleep(0.3)\n",
    "    clear_output(wait=True)"
   ],
   "metadata": {
    "collapsed": false
   },
   "id": "9980a58d06e99fb8"
  },
  {
   "cell_type": "markdown",
   "source": [
    "# QLM Lattice 4x2"
   ],
   "metadata": {
    "collapsed": false
   },
   "id": "2b11c56c38999f47"
  },
  {
   "cell_type": "code",
   "execution_count": null,
   "outputs": [],
   "source": [
    "coup_j, coup_rk = (1, -0.7)\n",
    "basis, model = setup_link_model(lattice_shape=(4, 2), n_solution=38, coup_j=coup_j, coup_rk=coup_rk)\n",
    "evals, evecs = np.linalg.eigh(model.hamiltonian)"
   ],
   "metadata": {
    "collapsed": false
   },
   "id": "cf55846ae765b724"
  },
  {
   "cell_type": "code",
   "execution_count": null,
   "outputs": [],
   "source": [
    "df = basis.dataframe.copy(deep=True)\n",
    "df.index = format_custom_index(df.index)\n",
    "df"
   ],
   "metadata": {
    "collapsed": false
   },
   "id": "322328ac42046d79"
  },
  {
   "cell_type": "code",
   "execution_count": null,
   "outputs": [],
   "source": [
    "evecs_df = pd.DataFrame.from_dict(\n",
    "    {\n",
    "        \"eval\": evals, \n",
    "        \"kin\": [(evec.T @ model.kinetic_term @ evec).item() for evec in evecs.T],\n",
    "        \"pot\": [(evec.T @ model.potential_term @ evec).item() for evec in evecs.T],\n",
    "    }\n",
    ")\n",
    "evecs_df[evecs_df[\"kin\"].abs() < 1e-12]"
   ],
   "metadata": {
    "collapsed": false
   },
   "id": "c328287b7d477530"
  },
  {
   "cell_type": "code",
   "execution_count": null,
   "outputs": [],
   "source": [
    "evecs_df.plot(style='.', grid=True)"
   ],
   "metadata": {
    "collapsed": false
   },
   "id": "8cfef74cd73ab9ff"
  },
  {
   "cell_type": "code",
   "execution_count": null,
   "outputs": [],
   "source": [
    "k_rank = np.linalg.matrix_rank(model.kinetic_term)\n",
    "h_rank = np.linalg.matrix_rank(model.hamiltonian)\n",
    "print(k_rank, h_rank, basis.n_states, (basis.n_states - k_rank) / basis.n_states)"
   ],
   "metadata": {
    "collapsed": false
   },
   "id": "ae20d75924893ad2"
  },
  {
   "cell_type": "code",
   "execution_count": null,
   "outputs": [],
   "source": [
    "plt.spy(evecs, precision=1e-12, markersize=5.0)\n",
    "plt.show()"
   ],
   "metadata": {
    "collapsed": false
   },
   "id": "6502375fef988e8c"
  },
  {
   "cell_type": "code",
   "execution_count": null,
   "outputs": [],
   "source": [
    "g = nx.from_numpy_array(-model.kinetic_term)\n",
    "ig = igraph.Graph.from_networkx(g)\n",
    "ig.vs[\"label\"] = [str(i) for i in range(ig.vcount())]\n",
    "color = [\"orange\" for i in range(ig.vcount())]\n",
    "highlight = [\n",
    "    # [1, 13, 24, 36],\n",
    "    # [5, 13, 24, 32],\n",
    "    # [7, 10, 27, 30],\n",
    "    # [10, 16, 21, 27],\n",
    "    # [4, 8, 12, 14, 17, 18, 23, 25, 28, 34]\n",
    "]\n",
    "highlight_color = [\n",
    "    # \"aqua\",\n",
    "    # \"deepskyblue\",\n",
    "    # \"yellowgreen\",\n",
    "    # \"royalblue\"\n",
    "]\n",
    "for i, nodes in enumerate(highlight):\n",
    "    for node in nodes:\n",
    "        color[node] = highlight_color[i]\n",
    "ig.vs[\"color\"] = color\n",
    "# sub_ig = ig.induced_subgraph(np.where(np.diag(two_steps_mat) == 5)[0])\n",
    "igraph.plot(\n",
    "    ig,\n",
    "    layout=ig.layout_kamada_kawai(),\n",
    "    vertex_size=16,\n",
    "    # vertex_color=\"orange\",\n",
    ")"
   ],
   "metadata": {
    "collapsed": false
   },
   "id": "18c325fb76711572"
  },
  {
   "cell_type": "code",
   "outputs": [],
   "source": [
    "two_steps_mat = np.linalg.matrix_power(model.kinetic_term, 2)\n",
    "sort_idx = np.argsort(np.diag(two_steps_mat))\n",
    "\n",
    "plt.plot(np.diag(two_steps_mat[sort_idx, :][:, sort_idx]), linestyle=\"--\", marker=\"o\")\n",
    "plt.show()"
   ],
   "metadata": {
    "collapsed": false
   },
   "id": "c34e681f2fc6b437",
   "execution_count": null
  },
  {
   "cell_type": "code",
   "outputs": [],
   "source": [
    "g = nx.from_numpy_array(two_steps_mat)\n",
    "ig = igraph.Graph.from_networkx(g)\n",
    "ig.vs[\"label\"] = [str(i) for i in range(ig.vcount())]\n",
    "sub_ig = ig.induced_subgraph(np.where(np.diag(two_steps_mat) == 5)[0])\n",
    "igraph.plot(\n",
    "    sub_ig,\n",
    "    # layout=sub_ig.layout_kamada_kawai(),\n",
    "    # vertex_size=8,\n",
    "    vertex_color=\"orange\",\n",
    "    # edge_width=0.4,\n",
    "    # edge_color=\"darkgray\",\n",
    "    # vertex_label_size=6,\n",
    "    inline=True\n",
    ")"
   ],
   "metadata": {
    "collapsed": false
   },
   "id": "932a7ecc8647e861",
   "execution_count": null
  },
  {
   "cell_type": "code",
   "outputs": [],
   "source": [
    "sub_components = sub_ig.connected_components(mode=\"weak\")\n",
    "\n",
    "for c in sub_components:\n",
    "    mat = nx.to_numpy_array(sub_ig.subgraph(c).to_networkx())\n",
    "    print(mat.shape[0] - np.linalg.matrix_rank(mat))"
   ],
   "metadata": {
    "collapsed": false
   },
   "id": "b65e711ff77ba020",
   "execution_count": null
  },
  {
   "cell_type": "code",
   "execution_count": null,
   "outputs": [],
   "source": [
    "entropies = np.asarray([model.entropy(evecs[:, i], 0, 1) for i in range(basis.n_states)])\n",
    "entropy_df = pd.Series(entropies, name=\"entropy\")\n",
    "entropy_df[entropy_df < 2.5]"
   ],
   "metadata": {
    "collapsed": false
   },
   "id": "89d846e3588ad72c"
  },
  {
   "cell_type": "code",
   "execution_count": null,
   "outputs": [],
   "source": [
    "entropy_df.plot(style='o')"
   ],
   "metadata": {
    "collapsed": false
   },
   "id": "db028599799240a"
  },
  {
   "cell_type": "code",
   "execution_count": null,
   "outputs": [],
   "source": [
    "i = 21\n",
    "plt.plot(evecs[:, i], linestyle='--', marker='o')\n",
    "np.where(np.abs(evecs[:, i]) > 0.1)[0]"
   ],
   "metadata": {
    "collapsed": false
   },
   "id": "36e6fa6f52ce1273"
  },
  {
   "cell_type": "code",
   "execution_count": null,
   "outputs": [],
   "source": [
    "fig, axes = plt.subplots(10, 4, figsize=(18, 40), facecolor=\"white\")\n",
    "ax = axes.flatten()\n",
    "\n",
    "for i in range(basis.n_states):\n",
    "    g = GraphVisualizer(SquareLattice(*model.shape, basis.dataframe.iloc[i]))\n",
    "    g.plot(show=False, ax=ax[i], node_size=800)\n",
    "    ax[i].set_title(f\"{df.index[i]}\")"
   ],
   "metadata": {
    "collapsed": false
   },
   "id": "ab1516dc5e56f2c4"
  },
  {
   "cell_type": "code",
   "execution_count": null,
   "outputs": [],
   "source": [
    "coup_j = np.ones((np.prod(model.shape), 1))\n",
    "coup_j[0] = 1.1\n",
    "energy_lump_model = QuantumLinkModel(coup_j, coup_rk, model.shape, basis)\n",
    "energy_lump_ham = energy_lump_model.hamiltonian\n",
    "\n",
    "scar_state = np.zeros((basis.n_states, 1))\n",
    "scar_state[np.array([10, 16, 21, 27]), 0] = np.array([-1, 1, 1, -1])\n",
    "# scar_state[np.array([8, 14, 17, 23, 28]), 0] = np.array([-1, 1, -1, 2, -1])\n",
    "scar_state /= np.linalg.norm(scar_state)\n",
    "\n",
    "start, stop, num = 0, 1000, 100\n",
    "evol_states = expm_multiply(-1j * energy_lump_ham, scar_state, start=start, stop=stop, num=num)\n",
    "fidelity = [np.abs(evol_state.T @ scar_state).item() ** 2 for evol_state in evol_states]\n",
    "entropy = [model.entropy(evol_state.flatten(), 1, 0) for evol_state in evol_states]\n",
    "\n",
    "plt.plot(np.linspace(start, stop, num), fidelity, linestyle=\"--\", marker=\"o\")\n",
    "plt.ylim(0.0001, 1.1)\n",
    "# plt.yscale('log')\n",
    "plt.xlabel(\"t\")\n",
    "plt.ylabel(\"Fidelity(t)\")\n",
    "plt.tight_layout()\n",
    "plt.show()\n",
    "\n",
    "plt.plot(np.linspace(start, stop, num), np.round(entropy, 12), linestyle=\"--\", marker=\"o\")\n",
    "plt.xlabel(\"t\")\n",
    "plt.ylabel(\"EE(t)\")\n",
    "plt.tight_layout()\n",
    "plt.show()\n",
    "\n",
    "final_state = np.real_if_close(evol_states[-1], tol=1e-12)\n",
    "print(f\"final fidelity = {fidelity[-1]}\")\n",
    "print(f\"O_kin @ psi_scar = {(model.kinetic_term @ final_state).flatten()}\")\n",
    "print(f\"<O_kin> = {(final_state.T @ model.kinetic_term @ final_state).item()}\")\n",
    "print(f\"<O_pot> = {(final_state.T @ model.potential_term @ final_state).item()}\")\n",
    "print(f\"<H> = {(final_state.T @ model.hamiltonian @ final_state).item()}\")"
   ],
   "metadata": {
    "collapsed": false
   },
   "id": "7392f898409f838b"
  },
  {
   "cell_type": "markdown",
   "source": [
    "# QLM Lattice 4x4"
   ],
   "metadata": {
    "collapsed": false
   },
   "id": "a2fe937007efba82"
  },
  {
   "cell_type": "code",
   "execution_count": null,
   "outputs": [],
   "source": [
    "coup_j, coup_rk = (1, -0.7)\n",
    "basis, model = setup_link_model(lattice_shape=(4, 4), n_solution=990, coup_j=coup_j, coup_rk=coup_rk)\n",
    "evals, evecs = np.linalg.eigh(model.hamiltonian.toarray())"
   ],
   "metadata": {
    "collapsed": false
   },
   "id": "ceb131234306f767"
  },
  {
   "cell_type": "code",
   "execution_count": null,
   "outputs": [],
   "source": [
    "df = basis.dataframe.copy(deep=True)\n",
    "df.index = format_custom_index(df.index)\n",
    "df"
   ],
   "metadata": {
    "collapsed": false
   },
   "id": "3de86dfe28ffc96b"
  },
  {
   "cell_type": "code",
   "execution_count": null,
   "outputs": [],
   "source": [
    "evecs_df = pd.DataFrame.from_dict(\n",
    "    {\n",
    "        \"eval\": evals, \n",
    "        \"kin\": [(evec.T @ model.kinetic_term @ evec).item() for evec in evecs.T],\n",
    "        \"pot\": [(evec.T @ model.potential_term @ evec).item() for evec in evecs.T],\n",
    "    }\n",
    ")\n",
    "evecs_df[evecs_df[\"kin\"].abs() < 1e-12]"
   ],
   "metadata": {
    "collapsed": false
   },
   "id": "b7da0c1623ce141a"
  },
  {
   "cell_type": "code",
   "execution_count": null,
   "outputs": [],
   "source": [
    "evecs_df[(evecs_df[\"kin\"].abs() - 2).abs() < 1e-12]"
   ],
   "metadata": {
    "collapsed": false
   },
   "id": "5dbd07eb1c6f77e"
  },
  {
   "cell_type": "code",
   "execution_count": null,
   "outputs": [],
   "source": [
    "evecs_df.plot(style='.', grid=True, markersize=2)"
   ],
   "metadata": {
    "collapsed": false
   },
   "id": "b9e803db7a9ebaae"
  },
  {
   "cell_type": "code",
   "execution_count": null,
   "outputs": [],
   "source": [
    "k_rank = np.linalg.matrix_rank(model.kinetic_term)\n",
    "h_rank = np.linalg.matrix_rank(model.hamiltonian)\n",
    "print(k_rank, h_rank, basis.n_states, (basis.n_states - k_rank) / basis.n_states)"
   ],
   "metadata": {
    "collapsed": false
   },
   "id": "8d4434265cca675c"
  },
  {
   "cell_type": "code",
   "execution_count": null,
   "outputs": [],
   "source": [
    "plt.spy(evecs, precision=1e-12, markersize=0.05)\n",
    "plt.show()"
   ],
   "metadata": {
    "collapsed": false
   },
   "id": "4aafbd8c22233e9c"
  },
  {
   "cell_type": "code",
   "execution_count": null,
   "outputs": [],
   "source": [
    "g = nx.from_numpy_array(-model.kinetic_term)\n",
    "ig = igraph.Graph.from_networkx(g)\n",
    "ig.vs[\"label\"] = [str(i) for i in range(ig.vcount())]\n",
    "color = [\"whitesmoke\" for i in range(ig.vcount())]\n",
    "highlight = [\n",
    "    np.where(np.diag(two_steps_mat) == 8)[0],\n",
    "    # np.where(np.diag(two_steps_mat) == 6)[0],\n",
    "    # [29, 41, 89, 110, 31, 91, 140, 100]\n",
    "]\n",
    "highlight_color = [\n",
    "    \"aqua\",\n",
    "    # \"deepskyblue\",\n",
    "    # \"yellowgreen\",\n",
    "    # \"tomato\",\n",
    "    # \"royalblue\"\n",
    "]\n",
    "for i, nodes in enumerate(highlight):\n",
    "    for node in nodes:\n",
    "        color[node] = highlight_color[i]\n",
    "ig.vs[\"color\"] = color\n",
    "sub_ig = ig.induced_subgraph(np.where((np.diag(two_steps_mat) == 8) | (np.diag(two_steps_mat) == 9) | (np.diag(two_steps_mat) == 10))[0])\n",
    "igraph.plot(\n",
    "    sub_ig,\n",
    "    layout=sub_ig.layout_kamada_kawai(),\n",
    "    vertex_size=10,\n",
    "    # vertex_color=\"orange\",\n",
    "    edge_width=0.6,\n",
    "    # edge_color=\"gray\"\n",
    "    vertex_label_size=4,\n",
    ")"
   ],
   "metadata": {
    "collapsed": false
   },
   "id": "afb5a077c7d50e29"
  },
  {
   "cell_type": "code",
   "outputs": [],
   "source": [
    "nx.write_gexf(sub_ig.to_networkx(), \"data.gexf\")"
   ],
   "metadata": {
    "collapsed": false
   },
   "id": "8bccfa1ef9be34ca",
   "execution_count": null
  },
  {
   "cell_type": "code",
   "outputs": [],
   "source": [
    "g = nx.from_numpy_array(-model.kinetic_term)\n",
    "net = nt.Network(filter_menu=True, select_menu=True, font_color=\"black\")\n",
    "net.from_nx(g)\n",
    "for node in net.nodes:\n",
    "    node[\"title\"] = str(node[\"id\"])\n",
    "net.show_buttons(filter_=['nodes', 'edges', 'physics'])\n",
    "net.write_html(\"nx.html\")"
   ],
   "metadata": {
    "collapsed": false
   },
   "id": "25d91be771a1b890",
   "execution_count": null
  },
  {
   "cell_type": "code",
   "outputs": [],
   "source": [
    "two_steps_mat = np.linalg.matrix_power(model.kinetic_term.toarray(), 2)\n",
    "sort_idx = np.argsort(np.diag(two_steps_mat))\n",
    "\n",
    "plt.plot(np.diag(two_steps_mat[sort_idx, :][:, sort_idx]), linestyle=\"--\", marker=\"o\")\n",
    "plt.show()"
   ],
   "metadata": {
    "collapsed": false
   },
   "id": "9ab144d8498fb1e2",
   "execution_count": null
  },
  {
   "cell_type": "code",
   "outputs": [],
   "source": [
    "g = nx.from_numpy_array(two_steps_mat)\n",
    "ig = igraph.Graph.from_networkx(g)\n",
    "ig.vs[\"label\"] = [str(i) for i in range(ig.vcount())]\n",
    "color = [\"whitesmoke\" for i in range(ig.vcount())]\n",
    "highlight = [\n",
    "    # [35,  40,  41,  98, 110, 129, 137, 178, 183, 215, 218, 256, 257,\n",
    "    #    264, 299, 303, 307, 312, 335, 338, 343, 365, 374, 419, 420, 421,\n",
    "    #    454, 455, 459, 460, 470, 473, 516, 519, 529, 530, 534, 535, 568,\n",
    "    #    569, 570, 615, 624, 646, 651, 654, 677, 682, 686, 690, 725, 732,\n",
    "    #    733, 771, 774, 806, 811, 852, 860, 879, 891, 948, 949, 954],\n",
    "    # np.where((np.abs(evecs[:, 680]) > 0.04) & (np.abs(evecs[:, 680]) < 0.08))[0],\n",
    "    # np.where((np.abs(evecs[:, 680]) > 0.08) & (np.abs(evecs[:, 680]) < 0.12))[0],\n",
    "    # np.where(evecs[:, 680] > 0.12)[0],\n",
    "    # np.where(evecs[:, 680] < -0.12)[0],\n",
    "    # np.where(np.abs(evecs[:, 678]) > 0.05)[0],\n",
    "]\n",
    "highlight_color = [\n",
    "    # \"aqua\",\n",
    "    # \"deepskyblue\",\n",
    "    # \"yellowgreen\",\n",
    "    # \"tomato\",\n",
    "    # \"royalblue\"\n",
    "]\n",
    "for i, nodes in enumerate(highlight):\n",
    "    for node in nodes:\n",
    "        color[node] = highlight_color[i]\n",
    "ig.vs[\"color\"] = color\n",
    "sub_ig = ig.induced_subgraph(np.where(np.diag(two_steps_mat) == 8)[0])\n",
    "igraph.plot(\n",
    "    sub_ig,\n",
    "    # layout=sub_ig.layout_kamada_kawai(),\n",
    "    vertex_size=12,\n",
    "    # vertex_color=\"orange\",\n",
    "    edge_width=0.4,\n",
    "    # edge_color=\"darkgray\",\n",
    "    vertex_label_size=6,\n",
    "    inline=True\n",
    ")"
   ],
   "metadata": {
    "collapsed": false
   },
   "id": "4be8c4261d28b108",
   "execution_count": null
  },
  {
   "cell_type": "code",
   "outputs": [],
   "source": [
    "sub_components = sub_ig.connected_components(mode=\"weak\")\n",
    "\n",
    "for c in sub_components:\n",
    "    mat = nx.to_numpy_array(sub_ig.subgraph(c).to_networkx())\n",
    "    print(mat.shape[0] - np.linalg.matrix_rank(mat))"
   ],
   "metadata": {
    "collapsed": false
   },
   "id": "bffe35ad5c4f86f7",
   "execution_count": null
  },
  {
   "cell_type": "code",
   "outputs": [],
   "source": [
    "# g = nx.from_numpy_array(two_steps_mat)\n",
    "g = nx.from_numpy_array(-model.kinetic_term)\n",
    "ig = igraph.Graph.from_networkx(g)\n",
    "ig.vs[\"label\"] = [str(i) for i in range(ig.vcount())]\n",
    "color = [\"whitesmoke\" for i in range(ig.vcount())]\n",
    "highlight = [\n",
    "    list(map(int, sub_ig.subgraph(sub_components[0]).vs[\"label\"])),\n",
    "    list(map(int, sub_ig.subgraph(sub_components[1]).vs[\"label\"])),\n",
    "    list(map(int, sub_ig.subgraph(sub_components[2]).vs[\"label\"])),\n",
    "    # np.where(np.diag(two_steps_mat) == 8)[0]\n",
    "]\n",
    "highlight_color = [\n",
    "    \"yellowgreen\",\n",
    "    \"tomato\",\n",
    "    \"royalblue\"\n",
    "]\n",
    "for i, nodes in enumerate(highlight):\n",
    "    for node in nodes:\n",
    "        color[node] = highlight_color[i]\n",
    "ig.vs[\"color\"] = color\n",
    "# sub_ig = ig.induced_subgraph(np.where(np.diag(two_steps_mat) == 8)[0])\n",
    "sub_ig = ig.induced_subgraph(np.where(np.abs(evecs[:, 226]) > 0.05)[0])\n",
    "igraph.plot(\n",
    "    sub_ig,\n",
    "    # layout=ig.layout_kamada_kawai(),\n",
    "    vertex_size=10,\n",
    "    # vertex_color=\"orange\",\n",
    "    edge_width=0.2,\n",
    "    # edge_color=\"gray\"\n",
    "    vertex_label_size=4,\n",
    ")"
   ],
   "metadata": {
    "collapsed": false
   },
   "id": "d0da6fa4638ff3f",
   "execution_count": null
  },
  {
   "cell_type": "code",
   "outputs": [],
   "source": [
    "sub_components = sub_ig.connected_components(mode=\"weak\")\n",
    "\n",
    "for c in sub_components:\n",
    "    mat = nx.to_numpy_array(sub_ig.subgraph(c).to_networkx())\n",
    "    print(mat.shape[0] - np.linalg.matrix_rank(mat))"
   ],
   "metadata": {
    "collapsed": false
   },
   "id": "cd9a90296a18fb94",
   "execution_count": null
  },
  {
   "cell_type": "code",
   "outputs": [],
   "source": [
    "sub_sub_ig = sub_ig.induced_subgraph(sub_components[2])\n",
    "igraph.plot(\n",
    "    sub_sub_ig,\n",
    "    layout=sub_sub_ig.layout_kamada_kawai(),\n",
    "    vertex_size=10,\n",
    "    # vertex_color=\"orange\",\n",
    "    edge_width=0.2,\n",
    "    # edge_color=\"gray\"\n",
    "    vertex_label_size=4,\n",
    ")"
   ],
   "metadata": {
    "collapsed": false
   },
   "id": "c69983b396fd9412",
   "execution_count": null
  },
  {
   "cell_type": "code",
   "outputs": [],
   "source": [
    "net = nt.Network(filter_menu=True, select_menu=True, font_color=\"black\")\n",
    "net.from_nx(sub_ig.subgraph(sub_components[2]).to_networkx())\n",
    "for node in net.nodes:\n",
    "    node[\"title\"] = str(node[\"id\"])\n",
    "net.show_buttons(filter_=['nodes', 'edges', 'physics'])\n",
    "net.write_html(\"nx.html\")"
   ],
   "metadata": {
    "collapsed": false
   },
   "id": "51d05e98f2165e8",
   "execution_count": null
  },
  {
   "cell_type": "code",
   "outputs": [],
   "source": [
    "nx.write_gexf(sub_ig.subgraph(sub_components[2]).to_networkx(), \"data.gexf\")"
   ],
   "metadata": {
    "collapsed": false
   },
   "id": "fa3781aa80b64dd",
   "execution_count": null
  },
  {
   "cell_type": "code",
   "outputs": [],
   "source": [
    "np.linalg.eigh(nx.to_numpy_array(sub_ig.subgraph(sub_components[2]).to_networkx()))[0]"
   ],
   "metadata": {
    "collapsed": false
   },
   "id": "cc6d27e005f4812d",
   "execution_count": null
  },
  {
   "cell_type": "code",
   "outputs": [],
   "source": [
    "np.linalg.eigh(nx.to_numpy_array(sub_ig.subgraph(sub_components[2]).to_networkx()))[1][:, 22:25]"
   ],
   "metadata": {
    "collapsed": false
   },
   "id": "15a23c352a9d7889",
   "execution_count": null
  },
  {
   "cell_type": "code",
   "execution_count": null,
   "outputs": [],
   "source": [
    "entropies = np.asarray([model.entropy(evecs[:, i], 1, 0) for i in range(basis.n_states)])\n",
    "entropy_df = pd.Series(entropies, name=\"entropy\")\n",
    "entropy_df[entropy_df < 3.5]"
   ],
   "metadata": {
    "collapsed": false
   },
   "id": "3ee032c60f81ca7"
  },
  {
   "cell_type": "code",
   "execution_count": null,
   "outputs": [],
   "source": [
    "entropy_df.plot(style='o')"
   ],
   "metadata": {
    "collapsed": false
   },
   "id": "8639f48d879677df"
  },
  {
   "cell_type": "code",
   "execution_count": null,
   "outputs": [],
   "source": [
    "i = 678\n",
    "plt.plot(evecs[:, i], linestyle='--', marker='o')\n",
    "np.where(np.abs(evecs[:, i]) > 0.05)[0]\n",
    "# np.sign(evecs[:, i][idx])"
   ],
   "metadata": {
    "collapsed": false
   },
   "id": "5cb70b557d3f2df6"
  },
  {
   "cell_type": "code",
   "execution_count": null,
   "outputs": [],
   "source": [
    "fig, axes = plt.subplots(4, 4, figsize=(18, 24), facecolor=\"white\")\n",
    "ax = axes.flatten()\n",
    "\n",
    "# for i, val in enumerate(np.where(np.abs(evecs[:, 246]) > 0.1)[0][-16:]):\n",
    "for i, val in enumerate(np.where(np.abs(evecs[:, 225]) > 0.05)[0][:16]):\n",
    "# for i, val in enumerate(np.where(np.abs(evecs[:, 678]) > 0.1)[0][:8]):\n",
    "# for i, val in enumerate([470, 954, 474, 949]):\n",
    "    g = GraphVisualizer(SquareLattice(*model.shape, basis.dataframe.iloc[val]))\n",
    "    g.plot(show=False, ax=ax[i], node_size=800)\n",
    "    ax[i].set_title(f\"{df.index[val]}\")"
   ],
   "metadata": {
    "collapsed": false
   },
   "id": "46d18d7b451a5a89"
  },
  {
   "cell_type": "code",
   "execution_count": null,
   "outputs": [],
   "source": [
    "coup_j = np.ones((np.prod(model.shape), 1))\n",
    "# coup_j[0] = 1.05\n",
    "energy_lump_model = QuantumLinkModel(coup_j, coup_rk, model.shape, basis)\n",
    "energy_lump_ham = energy_lump_model.hamiltonian\n",
    "\n",
    "scar_state = np.zeros((basis.n_states, 1))\n",
    "# scar_state[np.array([82, 216, 226, 257, 299, 333, 656, 690, 732, 763, 773, 907]), 0] = np.array([1.,  1.,  1., -1.,  1., -1., -1.,  1., -1.,  1.,  1.,  1.])\n",
    "scar_state[np.array([470, 954, 474, 949]), 0] = np.array([1, 1, 1, 1])\n",
    "scar_state /= np.linalg.norm(scar_state)\n",
    "# scar_state = evecs[:, 678]\n",
    "\n",
    "start, stop, num = 0, 200, 100\n",
    "evol_states = expm_multiply(-1j * energy_lump_ham, scar_state, start=start, stop=stop, num=num)\n",
    "fidelity = [np.abs(evol_state.T @ scar_state).item() ** 2 for evol_state in evol_states]\n",
    "entropy = [model.entropy(evol_state.flatten(), 2, 0) for evol_state in evol_states]\n",
    "\n",
    "plt.plot(np.linspace(start, stop, num), fidelity, linestyle=\"--\", marker=\"o\")\n",
    "plt.ylim(0.0001, 1.1)\n",
    "# plt.yscale('log')\n",
    "plt.xlabel(\"t\")\n",
    "plt.ylabel(\"Fidelity(t)\")\n",
    "plt.tight_layout()\n",
    "plt.show()\n",
    "\n",
    "plt.plot(np.linspace(start, stop, num), np.round(entropy, 12), linestyle=\"--\", marker=\"o\")\n",
    "plt.xlabel(\"t\")\n",
    "plt.ylabel(\"EE(t)\")\n",
    "plt.tight_layout()\n",
    "plt.show()\n",
    "\n",
    "final_state = np.real_if_close(evol_states[0], tol=1e-12)\n",
    "print(f\"final fidelity = {fidelity[0]}\")\n",
    "print(f\"O_kin @ psi_scar = {(model.kinetic_term @ final_state).flatten()}\")\n",
    "print(f\"<O_kin> = {(final_state.T @ model.kinetic_term @ final_state).item()}\")\n",
    "print(f\"<O_pot> = {(final_state.T @ model.potential_term @ final_state).item()}\")\n",
    "print(f\"<H> = {(final_state.T @ model.hamiltonian @ final_state).item()}\")"
   ],
   "metadata": {
    "collapsed": false
   },
   "id": "a0c50c1f74bc9cb9"
  },
  {
   "cell_type": "markdown",
   "source": [
    "# QLM Lattice 6x4"
   ],
   "metadata": {
    "collapsed": false
   },
   "id": "511b8d1bca552980"
  },
  {
   "cell_type": "code",
   "outputs": [],
   "source": [
    "coup_j, coup_rk = (1, -0.7)  # dfs 3 mins 33 secs\n",
    "basis, model = setup_link_model(lattice_shape=(6, 4), n_solution=32810, coup_j=coup_j, coup_rk=coup_rk) "
   ],
   "metadata": {
    "collapsed": false
   },
   "id": "3495d1ed6c9e6e8e",
   "execution_count": null
  },
  {
   "cell_type": "code",
   "outputs": [],
   "source": [
    "# basis.dataframe.to_parquet(\"qlm_6x4_lattice.parquet\", index=False)\n",
    "basis = ComputationBasis.from_parquet(\"data/qlm_6x4_lattice.parquet\")\n",
    "coup_j, coup_rk = (1, -0.7)\n",
    "model = QuantumLinkModel(coup_j, coup_rk, (6, 4), basis)"
   ],
   "metadata": {
    "collapsed": false
   },
   "id": "6f5d4c7c2b4a3272",
   "execution_count": null
  },
  {
   "cell_type": "code",
   "outputs": [],
   "source": [
    "evals, evecs = np.load(\"data/qlm_6x4_coup_j_1_coup_rk_-0.7_eigs.npz\").values()"
   ],
   "metadata": {
    "collapsed": false
   },
   "id": "d63f68f779015102",
   "execution_count": null
  },
  {
   "cell_type": "code",
   "outputs": [],
   "source": [
    "evecs_df = pd.read_parquet(\"data/qlm_6x4_coup_j_1_coup_rk_-0.7_eigs.parquet\")\n",
    "evecs_df[evecs_df[\"kin\"].abs() < 1e-12]"
   ],
   "metadata": {
    "collapsed": false
   },
   "id": "91f9a22805b3e07f",
   "execution_count": null
  },
  {
   "cell_type": "code",
   "outputs": [],
   "source": [
    "evecs_df[(evecs_df[\"kin\"].abs() < 1e-12) & ((evecs_df[\"pot\"].abs() - 10).abs() < 1e-12)]"
   ],
   "metadata": {
    "collapsed": false
   },
   "id": "d976088ce1d7a8c6",
   "execution_count": null
  },
  {
   "cell_type": "code",
   "outputs": [],
   "source": [
    "i = 17481\n",
    "plt.plot(evecs[:, i], linestyle='--', marker='.')\n",
    "# np.where(np.abs(evecs[:, i]) > 0.04)[0]"
   ],
   "metadata": {
    "collapsed": false
   },
   "id": "219ef17ef4d9e90a",
   "execution_count": null
  },
  {
   "cell_type": "code",
   "outputs": [],
   "source": [
    "g = nx.from_numpy_array(-model.kinetic_term)\n",
    "ig = igraph.Graph.from_networkx(g)\n",
    "ig.vs[\"label\"] = [str(i) for i in range(ig.vcount())]\n",
    "color = [\"whitesmoke\" for i in range(ig.vcount())]\n",
    "highlight = [\n",
    "    # np.where(np.diag(two_steps_mat) == 12)[0],\n",
    "    # np.where(np.diag(two_steps_mat) == 10)[0],\n",
    "    # np.where(np.abs(evecs[:, 17479]) > 0.03)[0]\n",
    "]\n",
    "highlight_color = [\n",
    "    # \"aqua\",\n",
    "    # \"deepskyblue\",\n",
    "    # \"yellowgreen\",\n",
    "    # \"tomato\",\n",
    "    # \"royalblue\"\n",
    "]\n",
    "for i, nodes in enumerate(highlight):\n",
    "    for node in nodes:\n",
    "        color[node] = highlight_color[i]\n",
    "ig.vs[\"color\"] = color\n",
    "sub_ig = ig.induced_subgraph(np.where(np.diag(two_steps_mat) == 12)[0])\n",
    "igraph.plot(\n",
    "    sub_ig,\n",
    "    layout=sub_ig.layout_kamada_kawai(),\n",
    "    vertex_size=4,\n",
    "    # vertex_color=\"orange\",\n",
    "    edge_width=0.2,\n",
    "    edge_color=\"darkgray\",\n",
    "    vertex_label_size=1,\n",
    "    inline=True\n",
    ")"
   ],
   "metadata": {
    "collapsed": false
   },
   "id": "c9bc6e8db264cced",
   "execution_count": null
  },
  {
   "cell_type": "code",
   "outputs": [],
   "source": [
    "sub_ig = ig.induced_subgraph(np.where(np.diag(two_steps_mat) == 10)[0])\n",
    "igraph.plot(\n",
    "    sub_ig,\n",
    "    layout=sub_ig.layout_kamada_kawai(),\n",
    "    vertex_size=4,\n",
    "    # vertex_color=\"orange\",\n",
    "    edge_width=0.2,\n",
    "    edge_color=\"darkgray\",\n",
    "    vertex_label_size=1,\n",
    "    inline=True\n",
    ")"
   ],
   "metadata": {
    "collapsed": false
   },
   "id": "b8c84d0917f768f4",
   "execution_count": null
  },
  {
   "cell_type": "code",
   "outputs": [],
   "source": [
    "two_steps_mat = csr_matrix(model.kinetic_term) ** 2\n",
    "# sort_idx = np.argsort(np.diag(two_steps_mat))\n",
    "\n",
    "# plt.plot(np.diag(two_steps_mat[sort_idx, :][:, sort_idx]), linestyle=\"--\", marker=\"o\")\n",
    "# plt.show()\n",
    "np.unique(two_steps_mat.diagonal())\n",
    "two_steps_mat = two_steps_mat.toarray()"
   ],
   "metadata": {
    "collapsed": false
   },
   "id": "8dc6f186c5613b2",
   "execution_count": null
  },
  {
   "cell_type": "code",
   "outputs": [],
   "source": [
    "g = nx.from_numpy_array(two_steps_mat)\n",
    "ig = igraph.Graph.from_networkx(g)\n",
    "ig.vs[\"label\"] = [str(i) for i in range(ig.vcount())]\n",
    "color = [\"whitesmoke\" for i in range(ig.vcount())]\n",
    "highlight = [\n",
    "    np.where(np.abs(evecs[:, 17475]) > 0.03)[0]\n",
    "]\n",
    "highlight_color = [\n",
    "    # \"aqua\",\n",
    "    # \"deepskyblue\",\n",
    "    # \"yellowgreen\",\n",
    "    \"tomato\",\n",
    "    # \"royalblue\"\n",
    "]\n",
    "for i, nodes in enumerate(highlight):\n",
    "    for node in nodes:\n",
    "        color[node] = highlight_color[i]\n",
    "ig.vs[\"color\"] = color\n",
    "sub_ig = ig.induced_subgraph(np.where(np.diag(two_steps_mat) == 10)[0])\n",
    "igraph.plot(\n",
    "    sub_ig,\n",
    "    # layout=sub_ig.layout_kamada_kawai(),\n",
    "    vertex_size=4,\n",
    "    # vertex_color=\"orange\",\n",
    "    edge_width=0.2,\n",
    "    edge_color=\"darkgray\",\n",
    "    vertex_label_size=1,\n",
    "    inline=True\n",
    ")"
   ],
   "metadata": {
    "collapsed": false
   },
   "id": "8823f349cc8e002b",
   "execution_count": null
  },
  {
   "cell_type": "code",
   "outputs": [],
   "source": [
    "sub_components = sub_ig.connected_components(mode=\"weak\")\n",
    "\n",
    "for c in sub_components:\n",
    "    mat = nx.to_numpy_array(sub_ig.subgraph(c).to_networkx())\n",
    "    print(mat.shape[0] - np.linalg.matrix_rank(mat))\n",
    "    \n",
    "print([len(c) for c in sub_components])"
   ],
   "metadata": {
    "collapsed": false
   },
   "id": "bd7a6514ef8f67c2",
   "execution_count": null
  },
  {
   "cell_type": "code",
   "outputs": [],
   "source": [
    "g = nx.from_numpy_array(-model.kinetic_term)\n",
    "ig = igraph.Graph.from_networkx(g)\n",
    "ig.vs[\"label\"] = [str(i) for i in range(ig.vcount())]\n",
    "color = [\"whitesmoke\" for i in range(ig.vcount())]\n",
    "highlight = [\n",
    "    list(map(int, sub_ig.subgraph(sub_components[0]).vs[\"label\"])),\n",
    "    list(map(int, sub_ig.subgraph(sub_components[1]).vs[\"label\"])),\n",
    "    list(map(int, sub_ig.subgraph(sub_components[2]).vs[\"label\"])),\n",
    "    # np.where(np.diag(two_steps_mat) == 10)[0]\n",
    "]\n",
    "highlight_color = [\n",
    "    \"tomato\",\n",
    "    \"yellowgreen\",\n",
    "    \"royalblue\"\n",
    "]\n",
    "for i, nodes in enumerate(highlight):\n",
    "    for node in nodes:\n",
    "        color[node] = highlight_color[i]\n",
    "ig.vs[\"color\"] = color\n",
    "sub_ig = ig.induced_subgraph(np.where(np.diag(two_steps_mat) == 10)[0])\n",
    "igraph.plot(\n",
    "    sub_ig,\n",
    "    # layout=sub_ig.layout_kamada_kawai(),\n",
    "    vertex_size=4,\n",
    "    # vertex_color=\"orange\",\n",
    "    edge_width=0.2,\n",
    "    # edge_color=\"gray\"\n",
    "    vertex_label_size=1,\n",
    ")"
   ],
   "metadata": {
    "collapsed": false
   },
   "id": "2b14cda033a9319e",
   "execution_count": null
  },
  {
   "cell_type": "code",
   "outputs": [],
   "source": [
    "sub_components = sub_ig.connected_components(mode=\"weak\")\n",
    "\n",
    "nullity = []\n",
    "for c in sub_components:\n",
    "    if len(c) > 1:\n",
    "        mat = nx.to_numpy_array(sub_ig.subgraph(c).to_networkx())\n",
    "        nullity.append(mat.shape[0] - np.linalg.matrix_rank(mat))\n",
    "\n",
    "print(np.unique(nullity, return_counts=True))\n",
    "print(np.unique([len(c) for c in sub_components], return_counts=True))"
   ],
   "metadata": {
    "collapsed": false
   },
   "id": "ca358c0f5f52c214",
   "execution_count": null
  },
  {
   "cell_type": "code",
   "outputs": [],
   "source": [],
   "metadata": {
    "collapsed": false
   },
   "id": "3582c067851715f4"
  }
 ],
 "metadata": {
  "kernelspec": {
   "display_name": "Python 3",
   "language": "python",
   "name": "python3"
  },
  "language_info": {
   "codemirror_mode": {
    "name": "ipython",
    "version": 2
   },
   "file_extension": ".py",
   "mimetype": "text/x-python",
   "name": "python",
   "nbconvert_exporter": "python",
   "pygments_lexer": "ipython2",
   "version": "2.7.6"
  }
 },
 "nbformat": 4,
 "nbformat_minor": 5
}
