{
 "cells": [
  {
   "metadata": {},
   "cell_type": "code",
   "outputs": [],
   "execution_count": null,
   "source": [
    "from itertools import product\n",
    "\n",
    "import igraph\n",
    "import matplotlib.colors as mcolors\n",
    "import matplotlib.pyplot as plt\n",
    "import networkx as nx\n",
    "import numpy as np\n",
    "import pandas as pd\n",
    "import pynauty\n",
    "from scipy.linalg import ishermitian\n",
    "from scipy.sparse.csgraph import connected_components\n",
    "from sympy.combinatorics import Permutation, PermutationGroup\n",
    "\n",
    "from qlinks.model.shiraishi_mori_model import SpinHalfChain, SpinOneChain\n",
    "from utils import setup_igraph\n",
    "\n",
    "np.set_printoptions(threshold=np.inf)\n",
    "pd.set_option(\"display.max_rows\", None)"
   ],
   "id": "53273157cea1854a"
  },
  {
   "metadata": {},
   "cell_type": "code",
   "outputs": [],
   "execution_count": null,
   "source": "",
   "id": "c081e8b87add7043"
  },
  {
   "metadata": {},
   "cell_type": "markdown",
   "source": "## Spin-1/2 chain",
   "id": "f786210f79dfbfbc"
  },
  {
   "metadata": {},
   "cell_type": "code",
   "outputs": [],
   "execution_count": null,
   "source": [
    "model = SpinHalfChain(\n",
    "    n=6,\n",
    "    coup_j1s=np.array([1, 1, -0.6]),\n",
    "    coup_j2s=np.array([-0.8, 0, 0]),\n",
    "    coup_hs=np.array([0.3, 0, 0.1]),\n",
    ")\n",
    "mat = model.hamiltonian.toarray()\n",
    "assert ishermitian(mat, atol=1e-12)  # somewhat has rounding error\n",
    "evals, evecs = np.linalg.eigh(mat)\n",
    "\n",
    "plt.matshow(mat)\n",
    "plt.colorbar()"
   ],
   "id": "c6bf94aee4521fce"
  },
  {
   "metadata": {},
   "cell_type": "code",
   "outputs": [],
   "execution_count": null,
   "source": [
    "plt.plot(evals, linestyle=\"--\", marker=\"o\")\n",
    "plt.grid()\n",
    "np.where(np.abs(evals) < 1e-12)[0]"
   ],
   "id": "7282cdc11d390c6"
  },
  {
   "metadata": {},
   "cell_type": "code",
   "outputs": [],
   "execution_count": null,
   "source": [
    "i = 20\n",
    "plt.plot(evecs[:, i].T, linestyle=\"--\", marker=\"o\")\n",
    "plt.grid()\n",
    "np.where(np.abs(evecs[:, i]) > 1e-6)[0]"
   ],
   "id": "c305fe9fbd215b3e"
  },
  {
   "metadata": {},
   "cell_type": "code",
   "outputs": [],
   "execution_count": null,
   "source": [
    "mask = np.array([11, 13, 19, 21, 22, 25, 26, 37, 38, 41, 42, 44, 50, 52])\n",
    "plt.plot(model.potential_term.data[mask], linestyle=\"--\", marker=\"o\")\n",
    "plt.grid()"
   ],
   "id": "eb1b91e5b6a240b2"
  },
  {
   "metadata": {},
   "cell_type": "code",
   "outputs": [],
   "execution_count": null,
   "source": [
    "mat = np.zeros((2 ** model.n, 2 ** model.n))\n",
    "for site in range(model.n):\n",
    "    mat += model.sm_projector(site).toarray()\n",
    "\n",
    "# mat = model.sm_projector(1)\n",
    "g = nx.from_numpy_array(mat)\n",
    "ig = setup_igraph(g)\n",
    "igraph.plot(\n",
    "    ig,\n",
    ")"
   ],
   "id": "f6da8c743d8a2f37"
  },
  {
   "metadata": {},
   "cell_type": "code",
   "outputs": [],
   "execution_count": null,
   "source": [
    "evals, evecs = np.linalg.eigh(mat)\n",
    "plt.plot(evals, linestyle=\"--\", marker=\"o\")\n",
    "plt.grid()\n",
    "np.where(np.abs(evals) < 1e-12)[0]"
   ],
   "id": "a17065d53a26638e"
  },
  {
   "metadata": {},
   "cell_type": "code",
   "outputs": [],
   "execution_count": null,
   "source": [
    "i = 0\n",
    "plt.plot(evecs[:, i].ravel(), linestyle=\"--\", marker=\"o\")\n",
    "plt.grid()\n",
    "np.where(np.abs(evecs[:, i]) > 1e-6)[0]"
   ],
   "id": "3e47664bbd33770b"
  },
  {
   "metadata": {},
   "cell_type": "code",
   "outputs": [],
   "execution_count": null,
   "source": [
    "g = nx.from_scipy_sparse_array(model.kinetic_term)\n",
    "ig = igraph.Graph.from_networkx(g)\n",
    "\n",
    "ntg = pynauty.Graph(\n",
    "    ig.vcount(),\n",
    "    directed=True,\n",
    "    adjacency_dict=nx.to_dict_of_lists(g),\n",
    ")\n",
    "aut_gp = pynauty.autgrp(ntg)[0]\n",
    "\n",
    "perm_gp = PermutationGroup([Permutation(p) for p in aut_gp])"
   ],
   "id": "1f68d11215dd64e4"
  },
  {
   "metadata": {},
   "cell_type": "code",
   "outputs": [],
   "execution_count": null,
   "source": [
    "g = nx.from_scipy_sparse_array(model.kinetic_term)\n",
    "\n",
    "highlight = [\n",
    "    # np.where(np.abs(evecs[:, 231]) > 1e-6)[0],\n",
    "]\n",
    "# highlight = list(aut.degree_partition.values())\n",
    "highlight = perm_gp.orbits()\n",
    "# highlight = list(nx.bipartite.sets(g))\n",
    "\n",
    "# highlight_color = list(mcolors.TABLEAU_COLORS.values())\n",
    "# highlight_color = list(mcolors.CSS4_COLORS.values())\n",
    "cmap = plt.get_cmap('Set3')\n",
    "highlight_color = [mcolors.to_hex(cmap(i)) for i in range(cmap.N)]\n",
    "cmap = plt.get_cmap('Set2')\n",
    "highlight_color += [mcolors.to_hex(cmap(i)) for i in range(cmap.N)]\n",
    "highlight_color *= 2000\n",
    "# highlight_color = [\n",
    "#     \"dimgray\",\n",
    "#     \"whitesmoke\",\n",
    "#     \"deepskyblue\",\n",
    "#     \"yellowgreen\",\n",
    "#     \"aqua\",\n",
    "#     \"pink\",\n",
    "#     \"tomato\",\n",
    "#     \"royalblue\",\n",
    "#     \"blueviolet\",\n",
    "#     \"cornflowerblue\",\n",
    "#     \"limegreen\",\n",
    "# ]\n",
    "\n",
    "ig = setup_igraph(g, highlight, highlight_color)\n",
    "\n",
    "degree = np.array(list(dict(g.degree).values()))\n",
    "# (bipartite, types) = ig.is_bipartite(return_types=True)\n",
    "# nodes = [int(n) for n in list(sub_sub_ig.vs[\"label\"])]\n",
    "# outer_boundary = list(nx.node_boundary(g, nodes))\n",
    "# sub_ig = ig.induced_subgraph(np.append(nodes, outer_boundary))\n",
    "\n",
    "# sub_ig = ig.induced_subgraph(np.where(degree == 8)[0])\n",
    "# fig, ax = plt.subplots(figsize=(6, 6), facecolor=\"white\")\n",
    "igraph.plot(\n",
    "    ig,\n",
    "    # layout=ig.layout_kamada_kawai(),\n",
    "    # layout=ig.layout_reingold_tilford(root=[0, 25, 50, 75]),\n",
    "    # layout=ig.layout_bipartite(types=types),\n",
    "    vertex_size=16,\n",
    "    vertex_label_size=8,\n",
    "    # vertex_label_dist=1.5,\n",
    "    edge_width=0.2,\n",
    "    # edge_color=\"darkgray\",\n",
    "    # target=\"xy_graph_pbc_4.svg\"\n",
    ")"
   ],
   "id": "d547a88e5edb677b"
  },
  {
   "metadata": {},
   "cell_type": "code",
   "outputs": [],
   "execution_count": null,
   "source": "nx.is_bipartite(g)",
   "id": "3674715f55764651"
  },
  {
   "metadata": {},
   "cell_type": "code",
   "outputs": [],
   "execution_count": null,
   "source": "",
   "id": "3425c13472155d51"
  },
  {
   "metadata": {},
   "cell_type": "markdown",
   "source": "## Spin-1 chain",
   "id": "fbbaa74809a809e7"
  },
  {
   "metadata": {},
   "cell_type": "code",
   "outputs": [],
   "execution_count": null,
   "source": [
    "model = SpinOneChain(\n",
    "    n=6,\n",
    "    coup_j1s=np.array([-0.8, 0.2, 0.4]),\n",
    "    coup_h1s=np.array([1, 0, 0.3]),\n",
    "    coup_j2s=np.array([-0.6, 0.4, 0.8]),\n",
    "    coup_h2s=np.array([0, 0, -0.2]),\n",
    "    coup_d=-0.4\n",
    ")\n",
    "mat = model.hamiltonian.toarray()\n",
    "assert ishermitian(mat)\n",
    "evals, evecs = np.linalg.eigh(mat)\n",
    "\n",
    "plt.matshow(mat)\n",
    "plt.colorbar()"
   ],
   "id": "8956fccea800ea85"
  },
  {
   "metadata": {},
   "cell_type": "code",
   "outputs": [],
   "execution_count": null,
   "source": [
    "pd.DataFrame.from_dict(\n",
    "    {i: j for i, j in enumerate(product([1, 0, -1], repeat=model.n))}, orient=\"index\"\n",
    ")"
   ],
   "id": "af0bb44abe4322e0"
  },
  {
   "metadata": {},
   "cell_type": "code",
   "outputs": [],
   "execution_count": null,
   "source": "pd.DataFrame((evecs.T @ model.q_operator @ evecs).diagonal())",
   "id": "2b0d5be56891933b"
  },
  {
   "metadata": {},
   "cell_type": "code",
   "outputs": [],
   "execution_count": null,
   "source": [
    "i = 19\n",
    "plt.plot(evecs[:, i].T, linestyle=\"--\", marker=\"o\")\n",
    "plt.grid()\n",
    "np.where(np.abs(evecs[:, i]) > 1e-6)[0]"
   ],
   "id": "b5bf306ee4cea0d2"
  },
  {
   "metadata": {},
   "cell_type": "code",
   "outputs": [],
   "execution_count": null,
   "source": [
    "g = nx.from_scipy_sparse_array(model.kinetic_term)\n",
    "ig = igraph.Graph.from_networkx(g)\n",
    "\n",
    "ntg = pynauty.Graph(\n",
    "    ig.vcount(),\n",
    "    directed=True,\n",
    "    adjacency_dict=nx.to_dict_of_lists(g),\n",
    ")\n",
    "aut_gp = pynauty.autgrp(ntg)[0]\n",
    "\n",
    "perm_gp = PermutationGroup([Permutation(p) for p in aut_gp])"
   ],
   "id": "de3330fb8f93f3b1"
  },
  {
   "metadata": {},
   "cell_type": "code",
   "outputs": [],
   "execution_count": null,
   "source": [
    "g = nx.from_scipy_sparse_array(model.kinetic_term)\n",
    "\n",
    "highlight = [\n",
    "    # np.where(np.abs(evecs[:, 231]) > 1e-6)[0],\n",
    "]\n",
    "# highlight = list(aut.degree_partition.values())\n",
    "highlight = perm_gp.orbits()\n",
    "# highlight = list(nx.bipartite.sets(g))\n",
    "\n",
    "# highlight_color = list(mcolors.TABLEAU_COLORS.values())\n",
    "# highlight_color = list(mcolors.CSS4_COLORS.values())\n",
    "cmap = plt.get_cmap('Set3')\n",
    "highlight_color = [mcolors.to_hex(cmap(i)) for i in range(cmap.N)]\n",
    "cmap = plt.get_cmap('Set2')\n",
    "highlight_color += [mcolors.to_hex(cmap(i)) for i in range(cmap.N)]\n",
    "highlight_color *= 2000\n",
    "# highlight_color = [\n",
    "#     \"dimgray\",\n",
    "#     \"whitesmoke\",\n",
    "#     \"deepskyblue\",\n",
    "#     \"yellowgreen\",\n",
    "#     \"aqua\",\n",
    "#     \"pink\",\n",
    "#     \"tomato\",\n",
    "#     \"royalblue\",\n",
    "#     \"blueviolet\",\n",
    "#     \"cornflowerblue\",\n",
    "#     \"limegreen\",\n",
    "# ]\n",
    "\n",
    "ig = setup_igraph(g, highlight, highlight_color)\n",
    "\n",
    "degree = np.array(list(dict(g.degree).values()))\n",
    "# (bipartite, types) = ig.is_bipartite(return_types=True)\n",
    "# nodes = [int(n) for n in list(sub_sub_ig.vs[\"label\"])]\n",
    "# outer_boundary = list(nx.node_boundary(g, nodes))\n",
    "# sub_ig = ig.induced_subgraph(np.append(nodes, outer_boundary))\n",
    "\n",
    "# sub_ig = ig.induced_subgraph(np.where(degree == 8)[0])\n",
    "# fig, ax = plt.subplots(figsize=(6, 6), facecolor=\"white\")\n",
    "igraph.plot(\n",
    "    ig,\n",
    "    # layout=ig.layout_kamada_kawai(),\n",
    "    # layout=ig.layout_reingold_tilford(root=[0, 25, 50, 75]),\n",
    "    # layout=ig.layout_bipartite(types=types),\n",
    "    vertex_size=16,\n",
    "    vertex_label_size=8,\n",
    "    # vertex_label_dist=1.5,\n",
    "    edge_width=0.2,\n",
    "    # edge_color=\"darkgray\",\n",
    "    # target=\"xy_graph_pbc_4.svg\"\n",
    ")"
   ],
   "id": "edfe7657181f157c"
  },
  {
   "metadata": {},
   "cell_type": "code",
   "outputs": [],
   "execution_count": null,
   "source": [
    "sub_components = ig.connected_components(mode=\"weak\")\n",
    "\n",
    "for i, c in enumerate(sub_components):\n",
    "    mat = nx.to_numpy_array(ig.subgraph(c).to_networkx())\n",
    "    # print(repr(mat))\n",
    "    print(i, mat.shape[0], mat.shape[0] - np.linalg.matrix_rank(mat), nx.is_bipartite(ig.subgraph(c).to_networkx()))"
   ],
   "id": "2a89774c46263147"
  },
  {
   "metadata": {},
   "cell_type": "code",
   "outputs": [],
   "execution_count": null,
   "source": "",
   "id": "2fd0e871f515610f"
  }
 ],
 "metadata": {},
 "nbformat": 5,
 "nbformat_minor": 9
}
