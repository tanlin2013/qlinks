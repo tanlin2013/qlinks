{
 "cells": [
  {
   "cell_type": "code",
   "execution_count": null,
   "id": "initial_id",
   "metadata": {
    "collapsed": true
   },
   "outputs": [],
   "source": [
    "import numpy as np\n",
    "from scipy.linalg import ishermitian\n",
    "import matplotlib.pyplot as plt\n",
    "import networkx as nx\n",
    "import igraph"
   ]
  },
  {
   "cell_type": "code",
   "outputs": [],
   "source": [
    "sz = np.array([[1, 0], [0, -1]])\n",
    "sx = np.array([[0, 1], [1, 0]])\n",
    "idty = np.eye(2)\n",
    "\n",
    "def idty_kron(front_length, back_length, operator):\n",
    "    return np.kron(np.kron(np.eye(2 ** front_length), operator), np.eye(2 ** back_length))\n",
    "\n",
    "\n",
    "def pxp_model(n):\n",
    "    mat = np.zeros((2 ** n, 2 ** n), dtype=float)\n",
    "    mat += np.kron(np.kron(np.kron(sx, idty - sz), np.eye(2 ** (n - 3))), idty - sz)\n",
    "    for site in range(n - 2):\n",
    "        mat += idty_kron(site, n - 3 - site, np.kron(idty - sz, np.kron(sx, idty - sz)))\n",
    "    mat += np.kron(np.kron(np.kron(idty - sz, np.eye(2 ** (n - 3))), idty - sz), sx)\n",
    "    return mat\n",
    "\n",
    "\n",
    "def ising_model(n, h):\n",
    "    mat = np.zeros((2 ** n, 2 ** n), dtype=float)\n",
    "    for site in range(n - 1):\n",
    "        mat += -1 * idty_kron(site, n - 2 - site, np.kron(sz, sz))\n",
    "        mat += h * idty_kron(site, n - 1 - site, sx)\n",
    "    mat += h * idty_kron(n - 1, 0, sx)\n",
    "    return mat"
   ],
   "metadata": {
    "collapsed": false
   },
   "id": "b7e5ba5be56755aa",
   "execution_count": null
  },
  {
   "cell_type": "markdown",
   "source": [
    "# PXP model"
   ],
   "metadata": {
    "collapsed": false
   },
   "id": "6b04afc455ec6e18"
  },
  {
   "cell_type": "code",
   "outputs": [],
   "source": [
    "mat = pxp_model(6)\n",
    "assert ishermitian(mat)\n",
    "\n",
    "plt.matshow(mat)\n",
    "plt.colorbar()"
   ],
   "metadata": {
    "collapsed": false
   },
   "id": "e34eee57cfb088f3",
   "execution_count": null
  },
  {
   "cell_type": "code",
   "outputs": [],
   "source": [
    "g = nx.from_numpy_array(mat)\n",
    "ig = igraph.Graph.from_networkx(g)\n",
    "ig.vs[\"label\"] = [str(i) for i in range(ig.vcount())]\n",
    "igraph.plot(\n",
    "    ig,\n",
    "    layout=ig.layout_kamada_kawai(),\n",
    "    # vertex_size=8,\n",
    "    vertex_color=\"orange\",\n",
    "    # edge_width=0.4,\n",
    "    # edge_color=\"darkgray\",\n",
    "    # vertex_label_size=6,\n",
    "    inline=True\n",
    ")"
   ],
   "metadata": {
    "collapsed": false
   },
   "id": "8389eff6dbb79091",
   "execution_count": null
  },
  {
   "cell_type": "code",
   "outputs": [],
   "source": [
    "sub_components = list(g.subgraph(c) for c in nx.connected_components(g))\n",
    "\n",
    "nullity = []\n",
    "for c in sub_components:\n",
    "    # print(nx.is_bipartite(c))\n",
    "    cmat = nx.to_numpy_array(c)\n",
    "    nullity.append(cmat.shape[0] - np.linalg.matrix_rank(cmat))\n",
    "    \n",
    "np.unique(nullity, return_counts=True)"
   ],
   "metadata": {
    "collapsed": false
   },
   "id": "755a46ef7245a188",
   "execution_count": null
  },
  {
   "cell_type": "code",
   "outputs": [],
   "source": [
    "plt.matshow(np.linalg.eigh(nx.to_numpy_array(sub_components[5]))[1])\n",
    "plt.colorbar()"
   ],
   "metadata": {
    "collapsed": false
   },
   "id": "8558f1dd2b315601",
   "execution_count": null
  },
  {
   "cell_type": "code",
   "outputs": [],
   "source": [
    "evals, evecs = np.linalg.eigh(mat)\n",
    "plt.plot(evals, linestyle=\"--\", marker=\".\")\n",
    "plt.grid()\n",
    "\n",
    "np.unique(np.round(evals, 4), return_counts=True)"
   ],
   "metadata": {
    "collapsed": false
   },
   "id": "36026194271e6df0",
   "execution_count": null
  },
  {
   "cell_type": "code",
   "outputs": [],
   "source": [
    "plt.matshow(evecs)\n",
    "plt.colorbar()"
   ],
   "metadata": {
    "collapsed": false
   },
   "id": "91545d9616a48348",
   "execution_count": null
  },
  {
   "cell_type": "code",
   "outputs": [],
   "source": [
    "two_steps_mat = np.linalg.matrix_power(mat, 2)\n",
    "sort_idx = np.argsort(np.diag(two_steps_mat))\n",
    "\n",
    "plt.plot(np.diag(two_steps_mat[sort_idx, :][:, sort_idx]), linestyle=\"--\", marker=\"o\")\n",
    "plt.show()"
   ],
   "metadata": {
    "collapsed": false
   },
   "id": "a58d76d4a771da4",
   "execution_count": null
  },
  {
   "cell_type": "code",
   "outputs": [],
   "source": [
    "np.unique(np.diag(two_steps_mat), return_counts=True)"
   ],
   "metadata": {
    "collapsed": false
   },
   "id": "a04fdeef3e833bf0",
   "execution_count": null
  },
  {
   "cell_type": "code",
   "outputs": [],
   "source": [
    "# two_steps_mat = two_steps_mat - np.diagflat(np.diag(two_steps_mat))\n",
    "g = nx.from_numpy_array(two_steps_mat)\n",
    "ig = igraph.Graph.from_networkx(g)\n",
    "ig.vs[\"label\"] = [str(i) for i in range(ig.vcount())]\n",
    "color = [\"whitesmoke\" for i in range(ig.vcount())]\n",
    "highlight = [\n",
    "]\n",
    "highlight_color = [\n",
    "    # \"aqua\",\n",
    "    # \"deepskyblue\",\n",
    "    # \"yellowgreen\",\n",
    "    # \"tomato\",\n",
    "    # \"royalblue\"\n",
    "]\n",
    "for i, nodes in enumerate(highlight):\n",
    "    for node in nodes:\n",
    "        color[node] = highlight_color[i]\n",
    "ig.vs[\"color\"] = color\n",
    "# sub_ig = ig.induced_subgraph(np.where(np.diag(two_steps_mat) == 48)[0])\n",
    "igraph.plot(\n",
    "    ig,\n",
    "    layout=ig.layout_kamada_kawai(),\n",
    "    vertex_size=12,\n",
    "    vertex_color=\"orange\",\n",
    "    edge_width=0.4,\n",
    "    # edge_color=\"darkgray\",\n",
    "    vertex_label_size=6,\n",
    "    inline=True\n",
    ")"
   ],
   "metadata": {
    "collapsed": false
   },
   "id": "2c4c3d385712ac0f",
   "execution_count": null
  },
  {
   "cell_type": "code",
   "outputs": [],
   "source": [
    "# sub_g = nx.induced_subgraph(g, np.where(np.diag(two_steps_mat) == 48)[0])\n",
    "sub_components = list(g.subgraph(c) for c in nx.connected_components(g))\n",
    "\n",
    "nullity = []\n",
    "for c in sub_components:\n",
    "    # print(nx.is_bipartite(c))\n",
    "    cmat = nx.to_numpy_array(c)\n",
    "    # cmat = cmat - np.diagflat(np.diag(cmat))\n",
    "    nullity.append(cmat.shape[0] - np.linalg.matrix_rank(cmat))\n",
    "    \n",
    "np.unique(nullity, return_counts=True)"
   ],
   "metadata": {
    "collapsed": false
   },
   "id": "d0b2f28d09a86322",
   "execution_count": null
  },
  {
   "cell_type": "markdown",
   "source": [
    "# Ising model"
   ],
   "metadata": {
    "collapsed": false
   },
   "id": "2b8316a605034054"
  },
  {
   "cell_type": "code",
   "outputs": [],
   "source": [
    "mat = ising_model(8, 1)\n",
    "assert ishermitian(mat)\n",
    "\n",
    "plt.matshow(mat)\n",
    "plt.colorbar()"
   ],
   "metadata": {
    "collapsed": false
   },
   "id": "e64d26c45546b00a",
   "execution_count": null
  },
  {
   "cell_type": "code",
   "outputs": [],
   "source": [
    "g = nx.from_numpy_array(mat)\n",
    "ig = igraph.Graph.from_networkx(g)\n",
    "ig.vs[\"label\"] = [str(i) for i in range(ig.vcount())]\n",
    "igraph.plot(\n",
    "    ig,\n",
    "    layout=ig.layout_kamada_kawai(),\n",
    "    # vertex_size=8,\n",
    "    vertex_color=\"orange\",\n",
    "    # edge_width=0.4,\n",
    "    # edge_color=\"darkgray\",\n",
    "    # vertex_label_size=6,\n",
    "    inline=True\n",
    ")"
   ],
   "metadata": {
    "collapsed": false
   },
   "id": "7de534a0dd0b5d64",
   "execution_count": null
  },
  {
   "cell_type": "code",
   "outputs": [],
   "source": [],
   "metadata": {
    "collapsed": false
   },
   "id": "ff7241d674e6adcf"
  },
  {
   "cell_type": "code",
   "outputs": [],
   "source": [
    "import numpy as np\n",
    "from scipy.linalg import eig\n",
    "\n",
    "n = 6\n",
    "A = np.random.random((n, n))\n",
    "A = (A + A.T) / 2\n",
    "B = np.random.random((n, n))\n",
    "B = (B + B.T) / 2"
   ],
   "metadata": {
    "collapsed": false
   },
   "id": "66232535e1ad75ae",
   "execution_count": null
  },
  {
   "cell_type": "code",
   "outputs": [],
   "source": [
    "evals, left_evecs, right_evecs = eig((B @ B @ A + B), b=B @ B, left=True, right=True)\n",
    "np.real_if_close(evals)"
   ],
   "metadata": {
    "collapsed": false
   },
   "id": "c17770b4e49fb870",
   "execution_count": null
  },
  {
   "cell_type": "code",
   "outputs": [],
   "source": [
    "B.T @ B.T @ left_evecs"
   ],
   "metadata": {
    "collapsed": false
   },
   "id": "ff4e0daf1732d2e9",
   "execution_count": null
  },
  {
   "cell_type": "code",
   "outputs": [],
   "source": [
    "right_evecs"
   ],
   "metadata": {
    "collapsed": false
   },
   "id": "9ed4e14591d261c9",
   "execution_count": null
  },
  {
   "cell_type": "code",
   "outputs": [],
   "source": [
    "np.real_if_close(left_evecs.T @ B @ B @ right_evecs)"
   ],
   "metadata": {
    "collapsed": false
   },
   "id": "e402d1ccaad28fe7",
   "execution_count": null
  },
  {
   "cell_type": "code",
   "outputs": [],
   "source": [
    "evals, left_evecs, right_evecs = eig(A + np.linalg.pinv(B), left=True, right=True)\n",
    "np.real_if_close(evals)"
   ],
   "metadata": {
    "collapsed": false
   },
   "id": "b67fecc1435ae51a",
   "execution_count": null
  },
  {
   "cell_type": "code",
   "outputs": [],
   "source": [
    "right_evecs"
   ],
   "metadata": {
    "collapsed": false
   },
   "id": "62d5f54311c93f65",
   "execution_count": null
  },
  {
   "cell_type": "code",
   "outputs": [],
   "source": [
    "left_evecs"
   ],
   "metadata": {
    "collapsed": false
   },
   "id": "fc0373ae61f45636",
   "execution_count": null
  },
  {
   "cell_type": "code",
   "outputs": [],
   "source": [],
   "metadata": {
    "collapsed": false
   },
   "id": "7a8af94899d4d343"
  }
 ],
 "metadata": {
  "kernelspec": {
   "display_name": "Python 3",
   "language": "python",
   "name": "python3"
  },
  "language_info": {
   "codemirror_mode": {
    "name": "ipython",
    "version": 2
   },
   "file_extension": ".py",
   "mimetype": "text/x-python",
   "name": "python",
   "nbconvert_exporter": "python",
   "pygments_lexer": "ipython2",
   "version": "2.7.6"
  }
 },
 "nbformat": 4,
 "nbformat_minor": 5
}
